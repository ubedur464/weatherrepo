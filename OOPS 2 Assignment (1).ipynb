{
 "cells": [
  {
   "cell_type": "code",
   "execution_count": null,
   "id": "e9e32197-3a5e-43a5-8b32-5aba8a95cc38",
   "metadata": {},
   "outputs": [],
   "source": [
    "                                             '''Constructor:'''\n",
    "#What is a constructor in Python? Explain its purpose and usage.\n",
    "\n",
    "A constructor is a special method in Python that is called when an object is created. \n",
    "The purpose of a constructor is to initialize the object’s attributes or properties. \n",
    "In Python, the __init__() method is used as a constructor and is called automatically when an object of a class is created.\n",
    "\n",
    "The syntax of a constructor declaration in Python is as follows:\n",
    "\n",
    "class MyClass:\n",
    "    def __init__(self):\n"
   ]
  },
  {
   "cell_type": "code",
   "execution_count": null,
   "id": "614f4a4f-f40a-4d01-b9eb-f96507d6d281",
   "metadata": {},
   "outputs": [],
   "source": [
    "#Differentiate between a parameterless constructor and a parameterized constructor in Python.\n",
    "There are two types of constructors in Python: default constructors and parameterized constructors.\n",
    "\n",
    "A default constructor is a simple constructor that does not accept any arguments. \n",
    "Its definition has only one argument, which is a reference to the instance being constructed . \n",
    "class MyClass:\n",
    "    def __init__(self):\n",
    "        self.my_attribute = 0\n",
    "A parameterized constructor takes one or more arguments and initializes the instance variables with the values passed as arguments.\n",
    "The first argument of the parameterized constructor is always self, which refers to the instance being constructed\n",
    "Here’s an example of a parameterized constructor in Python:\n",
    "\n",
    "class MyClass:\n",
    "    def __init__(self, arg1, arg2):\n",
    "        self.my_attribute1 = arg1\n",
    "        self.my_attribute2 = arg2"
   ]
  },
  {
   "cell_type": "code",
   "execution_count": null,
   "id": "e90173b1-c61c-4536-851f-c370715a50e2",
   "metadata": {},
   "outputs": [],
   "source": [
    "#How do you define a constructor in a Python class? Provide an example.\n",
    "'''we can define constructor by using method __init__. \n",
    "    it id called when obj of  class is created \n",
    "class student:\n",
    "    def __init__(self,arg1,arg2):\n",
    "        self.arg1 = arg1\n",
    "        self.arg2 = arg2\n",
    "        self.section = section '''\n"
   ]
  },
  {
   "cell_type": "code",
   "execution_count": null,
   "id": "759ef606-416c-4656-b357-7ea1036de577",
   "metadata": {},
   "outputs": [],
   "source": [
    "#Explain the `__init__` method in Python and its role in constructors.\n",
    "\n",
    "The __init__ method is a special method in Python classes that is called when an object of the class is created. \n",
    "It is used to initialize the object’s attributes and perform any other setup that is required. In other words, \n",
    "it is used to define the constructor of a class.\n",
    "\n",
    "The __init__ method takes one mandatory parameter, which is self. \n",
    "This parameter refers to the instance of the class that is being created.\n",
    "It can also take additional parameters, which can be used to initialize the instance variables of the object.\n",
    "\n",
    "It’s important to note that __init__ is not the constructor of a class, \n",
    "but rather a method that is called after the object has been constructed. \n",
    "The constructor of a class is actually the __new__ method, which is responsible for creating the object.\n",
    "\n",
    "class student:\n",
    "    def __init__(self,arg1,arg2):\n",
    "        self.arg1 = arg1\n",
    "        self.arg2 = arg2\n",
    "        self.section = section \n"
   ]
  },
  {
   "cell_type": "code",
   "execution_count": 11,
   "id": "21fd961c-1409-44d1-9ad1-f620226ff65c",
   "metadata": {},
   "outputs": [
    {
     "name": "stdout",
     "output_type": "stream",
     "text": [
      "entered name is rahman and age is 32\n"
     ]
    }
   ],
   "source": [
    "#In a class named `Person`, create a constructor that initializes the `name` and `age` attributes. \n",
    "#Provide an example of creating an object of this class.\n",
    "class person:\n",
    "    def __init__(self, name, age):\n",
    "        self.name = name\n",
    "        self.age = age\n",
    "  \n",
    "ubed = person('rahman',32)    \n",
    "print(f\"entered name is {ubed.name} and age is {ubed.age}\")    "
   ]
  },
  {
   "cell_type": "code",
   "execution_count": null,
   "id": "a573ec89-c542-4473-bc09-6ccc72ea3501",
   "metadata": {},
   "outputs": [],
   "source": [
    "#How can you call a constructor explicitly in Python? Give an example.\n",
    "In Python, you can call a constructor explicitly by using the class name and the __init__ method.\n",
    "class my_class:\n",
    "    def __init__(self,arg1,arg2):\n",
    "        self.arg1 = arg1\n",
    "        self.arg2 = arg2\n",
    "        self.section = section \n"
   ]
  },
  {
   "cell_type": "code",
   "execution_count": null,
   "id": "b2cb69a0-2cda-4339-95ed-5563b30a6627",
   "metadata": {},
   "outputs": [],
   "source": [
    "#What is the significance of the `self` parameter in Python constructors? Explain with an example.\n",
    "The self parameter in Python constructors is used to refer to the instance of the class that is being created. \n",
    "It is a reference to the object that is being created, and it allows you to access and modify the object’s attributes. \n",
    "When you create an instance of a class, Python automatically passes the instance as the first argument to the constructor, \n",
    "which is why you need to include self as the first parameter in the constructor definition.\n",
    "class person:\n",
    "    def __init__(self, name, age):\n",
    "        self.name = name\n",
    "        self.age = age\n",
    "  \n",
    "ubed = person('rahman',32)    \n",
    "print(f\"entered name is {ubed.name} and age is {ubed.age}\")   \n"
   ]
  },
  {
   "cell_type": "code",
   "execution_count": 18,
   "id": "ccf2b742-bbed-48d0-be00-cf3c185d857e",
   "metadata": {},
   "outputs": [
    {
     "data": {
      "text/plain": [
       "96"
      ]
     },
     "execution_count": 18,
     "metadata": {},
     "output_type": "execute_result"
    }
   ],
   "source": [
    "#Discuss the concept of default constructors in Python. When are they used?\n",
    "'''In Python, a default constructor is a constructor that doesn’t accept any arguments. \n",
    "It is defined with the __init__ method and is called when an object of the class is created without any arguments. \n",
    "The default constructor is used to initialize the object’s attributes to their default values.\n",
    "Here’s an example of how to define a default constructor in Python:'''\n",
    "\n",
    "class student:\n",
    "    def __init__(self):\n",
    "        self.name ='ubed'\n",
    "        self.roll_no =96\n",
    "umaira= student()   \n",
    "umaira.roll_no"
   ]
  },
  {
   "cell_type": "code",
   "execution_count": 28,
   "id": "f5c9ef9a-9f86-4e37-8050-869fdbbd2a26",
   "metadata": {},
   "outputs": [
    {
     "data": {
      "text/plain": [
       "200"
      ]
     },
     "execution_count": 28,
     "metadata": {},
     "output_type": "execute_result"
    }
   ],
   "source": [
    "#Create a Python class called `Rectangle` with a constructor that initializes the `width` and `height`attributes. \n",
    "#Provide a method to calculate the area of the rectangle.\n",
    "class rectangle:\n",
    "    def __init__(self, width,height):\n",
    "        self.width = width\n",
    "        self.height = height\n",
    "        self.area= width*height\n",
    "rec = rectangle(10,20)    \n",
    "rec.area"
   ]
  },
  {
   "cell_type": "code",
   "execution_count": null,
   "id": "815c312c-b808-42e6-b8dc-475d479cdb34",
   "metadata": {},
   "outputs": [],
   "source": [
    "#How can you have multiple constructors in a Python class? Explain with an example.\n",
    "In Python, you can simulate multiple constructors in a class by using optional arguments in the __init__ method. \n",
    "You can define default values for these optional arguments to create different constructors with different sets of arguments.\n",
    "Here’s an example:\n",
    "class MyClass:\n",
    "    def __init__(self, arg1=None, arg2=None):\n",
    "        if arg1 is not None and arg2 is not None:\n",
    "            self.arg1 = arg1\n",
    "            self.arg2 = arg2\n",
    "        elif arg1 is not None:\n",
    "            self.arg1 = arg1\n",
    "            self.arg2 = \"default_value\"\n",
    "        else:\n",
    "            self.arg1 = \"default_value\"\n",
    "            self.arg2 = \"default_value\"\n"
   ]
  },
  {
   "cell_type": "code",
   "execution_count": null,
   "id": "1028a2c9-4b0c-4bc2-9828-cfdb438c983e",
   "metadata": {},
   "outputs": [],
   "source": [
    "#What is method overloading, and how is it related to constructors in Python?\n",
    "Method overloading is a feature in some programming languages that allows you to define multiple methods with the same name but different parameters. \n",
    "In Python, method overloading is not supported by default, \n",
    "but you can simulate it using optional arguments in the __init__ method of a class.\n",
    "\n",
    "In Python, constructors are special methods that are used to initialize the attributes of an object when it is created. \n",
    "You can define multiple constructors in a class by using optional arguments in the __init__ method. \n",
    "By providing default values for these optional arguments, you can create different constructors with different sets of arguments.\n",
    "\n",
    "Here’s an example of how to define multiple constructors in Python:\n",
    "class MyClass:\n",
    "    def __init__(self, arg1=None, arg2=None):\n",
    "        if arg1 is not None and arg2 is not None:\n",
    "            self.arg1 = arg1\n",
    "            self.arg2 = arg2\n",
    "        elif arg1 is not None:\n",
    "            self.arg1 = arg1\n",
    "            self.arg2 = \"default_value\"\n",
    "        else:\n",
    "            self.arg1 = \"default_value\"\n",
    "            self.arg2 = \"default_value\""
   ]
  },
  {
   "cell_type": "code",
   "execution_count": 5,
   "id": "89020290-39fc-4a56-a71b-6f37d1dddccc",
   "metadata": {},
   "outputs": [
    {
     "name": "stdout",
     "output_type": "stream",
     "text": [
      "This is the child method\n",
      "This is the parent method\n",
      "I am the parent\n"
     ]
    }
   ],
   "source": [
    "#Explain the use of the `super()` function in Python constructors. Provide an example.\n",
    "'''The super() function in Python is used to refer to the parent class or superclass. \n",
    "It allows you to call methods defined in the superclass from the subclass, enabling you to extend and customize the functionality inherited from the parent class.\n",
    "\n",
    "In Python, when a subclass is created, it inherits all the attributes and methods of its parent class. If the subclass has an __init__() method,\n",
    "it overrides the parent class’s __init__() method. \n",
    "However, if you want to use the parent class’s __init__() method in addition to the subclass’s __init__() method, you can use the super() function.'''\n",
    "\n",
    "class Parent:\n",
    "    def __init__(self):\n",
    "        self.parent_attribute = \"I am the parent\"\n",
    "    \n",
    "    def parent_method(self):\n",
    "        print(\"This is the parent method\")\n",
    "\n",
    "class Child(Parent):\n",
    "    def __init__(self):\n",
    "        super().__init__()\n",
    "        self.child_attribute = \"I am the child\"\n",
    "    \n",
    "    def child_method(self):\n",
    "        print(\"This is the child method\")\n",
    "        super().parent_method()\n",
    "        print(self.parent_attribute)\n",
    "\n",
    "child = Child()\n",
    "child.child_method() # Output: This is the child method\\nThis is the parent method\\nI am the parent\n",
    "\n"
   ]
  },
  {
   "cell_type": "code",
   "execution_count": 47,
   "id": "f1078bb9-c735-45f6-b328-6b6be5a945ff",
   "metadata": {},
   "outputs": [
    {
     "name": "stdout",
     "output_type": "stream",
     "text": [
      "title of book is lord of rings , author name is ravibabu and published year is 2010\n"
     ]
    }
   ],
   "source": [
    "'''Create a class called `Book` with a constructor that initializes the `title`, `author`, and `published_year`attributes. \n",
    "Provide a method to display book details.'''\n",
    "\n",
    "class book:\n",
    "    def __init__(self, title, author, published_year):\n",
    "        self.title = title\n",
    "        self.author = author\n",
    "        self.published_year = published_year        \n",
    "    def book_details(self):\n",
    "       print(f\"title of book is {self.title} , author name is {self.author} and published year is {self.published_year}\")\n",
    "kitab = book('lord of rings', 'ravibabu',2010)\n",
    "kitab.book_details()\n"
   ]
  },
  {
   "cell_type": "code",
   "execution_count": null,
   "id": "08eeea02-249d-435a-b75d-fe31a5c8136b",
   "metadata": {},
   "outputs": [],
   "source": [
    "#Discuss the differences between constructors and regular methods in Python classes.\n",
    "In Python, a constructor is a special method that is called when an object is created.\n",
    "It is used to initialize the object’s attributes and set their initial values. \n",
    "The constructor method has a special name __init__ and takes the self parameter, which refers to the object being created, as its first argument.\n",
    "\n",
    "On the other hand, regular methods are used to perform operations on objects that already exist. \n",
    "They take the self parameter as their first argument, which refers to the object on which the method is called.\n",
    "\n",
    "class MyClass:\n",
    "    def __init__(self, x):\n",
    "        self.x = x\n",
    "\n",
    "    def my_method(self, y):\n",
    "        return self.x + y\n",
    "\n",
    "# Create an object of MyClass\n",
    "obj = MyClass(10)\n",
    "\n",
    "# Call my_method on obj\n",
    "result = obj.my_method(5)\n",
    "\n",
    "print(result) # Output: 15\n",
    "\n"
   ]
  },
  {
   "cell_type": "code",
   "execution_count": null,
   "id": "1708c903-4ee2-4e94-a43e-ecfb88e5cca7",
   "metadata": {},
   "outputs": [],
   "source": [
    "15. Explain the role of the `self` parameter in instance variable initialization within a constructor.\n",
    "In Python, the self parameter is used to refer to the instance being created and allows you to access and set its attributes \n",
    "1. When a new instance of a class is created, the __init__ method is called. This method is used to initialize the attributes of the object \n",
    "2. The self parameter is passed as the first argument to the __init__ method and refers to the instance being created \n",
    "1. By using self, you can set instance variables that are unique to each instance of the class 1\n",
    "class Car:\n",
    "    def __init__(self, make, model):\n",
    "        self.make = make\n",
    "        self.model = model\n"
   ]
  },
  {
   "cell_type": "code",
   "execution_count": null,
   "id": "ea7a6f33-d216-435c-a3db-59e477a4a4df",
   "metadata": {},
   "outputs": [],
   "source": [
    "#How do you prevent a class from having multiple instances by using constructors in Python? Provide an  example.\n",
    "'''To prevent a class from having multiple instances, you can use the Singleton pattern. \n",
    "The Singleton pattern is a design pattern that restricts the instantiation of a class to one object. \n",
    "This is useful when exactly one object is needed to coordinate actions across the system '''\n",
    "\n",
    "class Singleton:\n",
    "    __instance = None\n",
    "\n",
    "    def __new__(cls):\n",
    "        if cls.__instance is None:\n",
    "            cls.__instance = super().__new__(cls)\n",
    "        return cls.__instance"
   ]
  },
  {
   "cell_type": "code",
   "execution_count": 14,
   "id": "2ec2e205-5dce-495c-b33d-de0449610a05",
   "metadata": {},
   "outputs": [
    {
     "data": {
      "text/plain": [
       "['maths', 'science', 'social']"
      ]
     },
     "execution_count": 14,
     "metadata": {},
     "output_type": "execute_result"
    }
   ],
   "source": [
    "#Create a Python class called `Student` with a constructor that takes a list of subjects as a parameter andinitializes the `subjects` attribute.\n",
    "class student:\n",
    "    def __init__(self,subjects):\n",
    "        self.subjects = subjects\n",
    "        \n",
    "ubed = student(['maths','science','social'])\n",
    "ubed.subjects"
   ]
  },
  {
   "cell_type": "code",
   "execution_count": null,
   "id": "44f2f9d7-6d10-47e7-af07-598b456d001f",
   "metadata": {},
   "outputs": [],
   "source": [
    "#What is the purpose of the `__del__` method in Python classes, and how does it relate to constructors?\n",
    "In Python, the `__del__` method is a special method that is called when an object is about to be destroyed by the garbage collector .\n",
    "The garbage collector manages memory automatically in Python and destroys objects that are no longer being used . \n",
    "If an object implements the `__del__` method, Python calls it right before the object is destroyed ¹. \n",
    "The `__del__` method is sometimes referred to as a **finalizer** because it is called when an object is being finalized .\n",
    "However, it is important to note that the `__del__` method is not a destructor because it doesn't actually destroy the object; \n",
    "it is just called before the object is destroyed by the garbage collector .\n",
    "The `__del__` method can be used to perform cleanup tasks before an object is destroyed.\n",
    "For example, you might use it to close a file or release a network connection . \n",
    "However, it is generally recommended to use a context manager instead of the `__del__` method for cleanup tasks .\n",
    "\n",
    "In terms of constructors, the `__init__` method is called when an object is created and initialized with default values . \n",
    "The `__del__` method, on the other hand, is called when an object is being destroyed and can be used to perform cleanup tasks before the object is destroyed .\n",
    "\n"
   ]
  },
  {
   "cell_type": "code",
   "execution_count": null,
   "id": "ec041758-da02-46d8-9053-aa50e1a72993",
   "metadata": {},
   "outputs": [],
   "source": [
    "#Explain the use of constructor chaining in Python. Provide a practical example.\n",
    "''' In Python, constructor chaining is a technique that allows a subclass to call the constructor of its parent class. \n",
    "This is useful when you want to reuse the code of the parent class in the child class.\n",
    "\n",
    "To implement constructor chaining in Python, you can use the super() function. \n",
    "The super() function returns a temporary object of the superclass, which allows you to call its methods. \n",
    "You can then call the constructor of the superclass using the super() function and pass any arguments that the constructor requires. '''\n",
    "\n",
    "class parent:\n",
    "    def __init__(self, name):\n",
    "        self.name = name\n",
    "\n",
    "class child(parent):\n",
    "    def __init__(self, name, age):\n",
    "        super().__init__(name)\n",
    "        self.age = age"
   ]
  },
  {
   "cell_type": "code",
   "execution_count": null,
   "id": "f07ed7f1-f9b5-473b-89ed-2890b9c05ca2",
   "metadata": {},
   "outputs": [],
   "source": []
  },
  {
   "cell_type": "code",
   "execution_count": 5,
   "id": "c93a19b1-7a67-4422-bef8-eb51408f2282",
   "metadata": {},
   "outputs": [
    {
     "name": "stdout",
     "output_type": "stream",
     "text": [
      " The make of the car is Mercedes and its model is EQS\n"
     ]
    }
   ],
   "source": [
    "#Create a Python class called `Car` with a default constructor that initializes the `make` and `model`attributes. Provide a method to display car information.\n",
    "class car:\n",
    "    def __init__(self):\n",
    "        self.make = 'Mercedes'\n",
    "        self.model = 'EQS'\n",
    "    def display_car_info(self):\n",
    "        print(f\" The make of the car is {self.make} and its model is {self.model}\")\n",
    "        \n",
    "newcar=car() \n",
    "newcar.display_car_info()"
   ]
  },
  {
   "cell_type": "code",
   "execution_count": 47,
   "id": "b87b2950-9dbc-4935-8172-1c167f5a1f10",
   "metadata": {},
   "outputs": [
    {
     "data": {
      "text/plain": [
       "'meow meow'"
      ]
     },
     "execution_count": 47,
     "metadata": {},
     "output_type": "execute_result"
    }
   ],
   "source": [
    "'''Inheritance:'''\n",
    "#What is inheritance in Python? Explain its significance in object-oriented programming.\n",
    "'''In Python, inheritance is a mechanism that allows you to create a hierarchy of classes that share a set of properties and methods by deriving a class from another class \n",
    "1. The derived class is called the child class or subclass, and the class it inherits from is called the parent class or superclass 1.\n",
    "\n",
    "Inheritance is a fundamental concept in object-oriented programming (OOP) and is used to represent real-world relationships between objects 1. \n",
    "It allows you to create new classes that are built upon existing classes, inheriting their attributes and methods \n",
    "1. This makes it easier to reuse code and avoid duplicating functionality 1.\n",
    "\n",
    "The benefits of inheritance in Python are as follows:\n",
    "\n",
    "It represents real-world relationships well.\n",
    "It provides the reusability of code. We don’t have to write the same code again and again.\n",
    "It allows us to add more features to a class without modifying it.\n",
    "It is transitive in nature, which means that if class B inherits from another class A, then all the subclasses of B would automatically inherit from class A 1.\n",
    "Here’s an example of how to use inheritance in Python:'''\n",
    "\n",
    "class animal:\n",
    "    def speak(self):\n",
    "        raise NotImplementedError(\"Subclass must implement abstract method\")\n",
    "class dog(animal):\n",
    "    def speak(self):\n",
    "        return 'bow bow'\n",
    "class cat(animal):\n",
    "    def speak(self):\n",
    "        return 'meow meow'\n",
    "dog=dog()\n",
    "dog.speak()\n",
    "cat=cat()\n",
    "cat.speak()"
   ]
  },
  {
   "cell_type": "code",
   "execution_count": null,
   "id": "29f4ee23-70f0-4da4-b86c-cfe8d7fd2599",
   "metadata": {},
   "outputs": [],
   "source": [
    "#Differentiate between single inheritance and multiple inheritance in Python. Provide examples for each.\n",
    "\n",
    "class animals:\n",
    "    pass\n",
    "class birds(animals):  #single inheritance \n",
    "    pass\n",
    "class mamals(birds, animals): # multi-level inheritance\n",
    "    pass"
   ]
  },
  {
   "cell_type": "code",
   "execution_count": 2,
   "id": "e21b5b1f-beb8-411b-a6ce-e9ba66454195",
   "metadata": {},
   "outputs": [
    {
     "data": {
      "text/plain": [
       "'black'"
      ]
     },
     "execution_count": 2,
     "metadata": {},
     "output_type": "execute_result"
    }
   ],
   "source": [
    "#Create a Python class called `Vehicle` with attributes `color` and `speed`. Then, create a child class called\n",
    "#Car` that inherits from `Vehicle` and adds a `brand` attribute. Provide an example of creating a `Car` object.\n",
    "class vehicle:\n",
    "    def __init__ (self,color,speed):\n",
    "        self.color=color\n",
    "        self.speed =speed\n",
    "class car(vehicle):\n",
    "    def __init__(self,brand,color,speed):\n",
    "        super().__init__(color,speed)\n",
    "        self.brand = brand\n",
    "        \n",
    "vehicle =vehicle('black','80kmph')        \n",
    "car=car('bmw','black','80kmph')\n",
    "car.color"
   ]
  },
  {
   "cell_type": "code",
   "execution_count": 3,
   "id": "3db8b92e-952c-41ce-9bb8-b1b8faed372b",
   "metadata": {},
   "outputs": [
    {
     "name": "stdout",
     "output_type": "stream",
     "text": [
      "Meow\n"
     ]
    }
   ],
   "source": [
    " #Explain the concept of method overriding in inheritance. Provide a practical example.\n",
    "'''Method overriding in Python is a feature of object-oriented programming that allows a subclass to provide a different implementation of a method that is already defined in its superclass. \n",
    "The method in the subclass must have the same name, same number of parameters, and the same return type (or sub-type) as the method in the superclass.\n",
    "When a method is called on an object of the subclass, it will execute the overridden method in the subclass instead of the method in the superclass.'''\n",
    "\n",
    "class Animal:\n",
    "    def make_sound(self):\n",
    "        print(\"The animal makes a sound\")\n",
    "\n",
    "class Cat(Animal):\n",
    "    def make_sound(self):\n",
    "        print(\"Meow\")\n",
    "\n",
    "cat = Cat()\n",
    "cat.make_sound() "
   ]
  },
  {
   "cell_type": "code",
   "execution_count": 4,
   "id": "3c0f3123-d099-4ea4-b547-1dc26eb1aa75",
   "metadata": {},
   "outputs": [
    {
     "name": "stdout",
     "output_type": "stream",
     "text": [
      "This is the child method\n",
      "This is the parent method\n",
      "I am the parent\n"
     ]
    }
   ],
   "source": [
    "#How can you access the methods and attributes of a parent class from a child class in Python? Give an example.\n",
    "'''To access the methods and attributes of a parent class from a child class in Python, you can use the super() function. \n",
    "The super() function returns a temporary object of the superclass, which allows you to call its methods. '''\n",
    "\n",
    "class Parent:\n",
    "    def __init__(self):\n",
    "        self.parent_attribute = \"I am the parent\"\n",
    "    \n",
    "    def parent_method(self):\n",
    "        print(\"This is the parent method\")\n",
    "\n",
    "class Child(Parent):\n",
    "    def __init__(self):\n",
    "        super().__init__()\n",
    "        self.child_attribute = \"I am the child\"\n",
    "    \n",
    "    def child_method(self):\n",
    "        print(\"This is the child method\")\n",
    "        super().parent_method()\n",
    "        print(self.parent_attribute)\n",
    "\n",
    "child = Child()\n",
    "child.child_method() \n"
   ]
  },
  {
   "cell_type": "code",
   "execution_count": 11,
   "id": "5287d982-4fc8-4163-be57-18c2091d7d04",
   "metadata": {},
   "outputs": [
    {
     "name": "stdout",
     "output_type": "stream",
     "text": [
      "this is child method\n",
      "this is parent method\n"
     ]
    }
   ],
   "source": [
    "#Discuss the use of the `super()` function in Python inheritance. When and why is it used? Provide an example.\n",
    "'''To access the methods and attributes of a parent class from a child class in Python, you can use the super() function. \n",
    "The super() function returns a temporary object of the superclass, which allows you to call its methods. '''\n",
    "\n",
    "class parent:\n",
    "    def __init__(self):\n",
    "        self.parent_atribute = 'this is the parent'\n",
    "    def parent_method(self):\n",
    "        print('this is parent method')\n",
    "\n",
    "class child(parent):\n",
    "    def __init__(self):\n",
    "        super().__init__()\n",
    "        self.child_atribute ='this is child'\n",
    "\n",
    "    def child_method(self):\n",
    "        print('this is child method')\n",
    "        super().parent_method()\n",
    "        \n",
    "        \n",
    "child=child()\n",
    "child.child_method()\n"
   ]
  },
  {
   "cell_type": "code",
   "execution_count": 48,
   "id": "ba90cf4b-d6f4-4011-be44-46f83142e068",
   "metadata": {},
   "outputs": [
    {
     "data": {
      "text/plain": [
       "'meow meow'"
      ]
     },
     "execution_count": 48,
     "metadata": {},
     "output_type": "execute_result"
    }
   ],
   "source": [
    "#Create a Python class called `Animal` with a method `speak()`. \n",
    "#Then, create child classes `Dog` and `Cat` that inherit from `Animal` and override the `speak()` method. Provide an example of using these classes.\n",
    "class animal:\n",
    "    def speak(self):\n",
    "        raise NotImplementedError(\"Subclass must implement abstract method\")\n",
    "class dog(animal):\n",
    "    def speak(self):\n",
    "        return 'bow bow'\n",
    "class cat(animal):\n",
    "    def speak(self):\n",
    "        return 'meow meow'\n",
    "dog=dog()\n",
    "dog.speak()\n",
    "cat=cat()\n",
    "cat.speak()"
   ]
  },
  {
   "cell_type": "code",
   "execution_count": 31,
   "id": "72577da0-f4ce-42e3-b2a0-31eb19b0d64f",
   "metadata": {},
   "outputs": [
    {
     "data": {
      "text/plain": [
       "True"
      ]
     },
     "execution_count": 31,
     "metadata": {},
     "output_type": "execute_result"
    }
   ],
   "source": [
    "#Explain the role of the `isinstance()` function in Python and how it relates to inheritance.\n",
    "''' The isinstance() function in Python is used to check if an object is an instance of a particular class or a subclass of that class. \n",
    "It returns True if the object is an instance of the specified class or a subclass of that class, and False otherwise.\n",
    "In the context of inheritance, isinstance() can be used to check if an object is an instance of a parent class or a subclass. \n",
    "When a subclass is created, it inherits all the attributes and methods of its parent class. \n",
    "Therefore, an instance of a subclass is also an instance of its parent class.'''\n",
    "class parent:\n",
    "    pass\n",
    "\n",
    "class child(parent):\n",
    "    pass\n",
    "\n",
    "child=child()\n",
    "isinstance(child,parent)"
   ]
  },
  {
   "cell_type": "code",
   "execution_count": 3,
   "id": "09c206dd-9ebd-4715-9954-c3aacba3bb04",
   "metadata": {},
   "outputs": [
    {
     "name": "stdout",
     "output_type": "stream",
     "text": [
      "True\n"
     ]
    }
   ],
   "source": [
    "# What is the purpose of the `issubclass()` function in Python? Provide an example.\n",
    "'''The issubclass() function in Python is a built-in function that is used to check whether a given class is a subclass of another class or not. \n",
    "It returns True if the given class is a subclass of the specified class, otherwise it returns False '''\n",
    "class sharukh:\n",
    "    pass\n",
    "class abram(sharukh):\n",
    "    pass\n",
    "print(issubclass(abram, sharukh))    "
   ]
  },
  {
   "cell_type": "code",
   "execution_count": 23,
   "id": "49f3fbf3-4ffd-4ced-ab05-807c98235b06",
   "metadata": {},
   "outputs": [
    {
     "name": "stdout",
     "output_type": "stream",
     "text": [
      "parent constructor created\n",
      "this is child constructor\n"
     ]
    },
    {
     "data": {
      "text/plain": [
       "32"
      ]
     },
     "execution_count": 23,
     "metadata": {},
     "output_type": "execute_result"
    }
   ],
   "source": [
    "#Discuss the concept of constructor inheritance in Python. How are constructors inherited in child classes?\n",
    "''' In Python, constructors are inherited in child classes just like any other method. When a child class is created, \n",
    "it automatically inherits all the attributes and methods of its parent class, including the constructor. \n",
    "If the child class does not define its own constructor, it will use the constructor of its parent class.\n",
    "If you want to customize the behavior of the constructor in the child class, \n",
    "you can override it by defining a new constructor in the child class. \n",
    "In this case, you can call the constructor of the parent class using the super() function. '''\n",
    "class parent:\n",
    "    def __init__(self,name):\n",
    "        self.name = name\n",
    "        print(\"parent constructor created\")\n",
    "        \n",
    "class child(parent):\n",
    "    def __init__(self,name,age):\n",
    "        super().__init__(name)\n",
    "        self.age = age\n",
    "        print(\"this is child constructor\")\n",
    "child = child('rahman',32)\n",
    "child.age\n",
    "            "
   ]
  },
  {
   "cell_type": "code",
   "execution_count": 12,
   "id": "577386c8-9887-43f0-a3f1-a7461521a4f0",
   "metadata": {},
   "outputs": [
    {
     "name": "stdout",
     "output_type": "stream",
     "text": [
      "area of circle : 78.5\n",
      "area of rectangle :  25\n"
     ]
    }
   ],
   "source": [
    "#Create a Python class called `Shape` with a method `area()` that calculates the area of a shape. Then, create child classes `Circle` and `Rectangle` that inherit from `Shape` and implement the `area()` method\n",
    "#accordingly. Provide an example.\n",
    "\n",
    "class shape:\n",
    "    def area(self):\n",
    "        pass\n",
    "        \n",
    "class circle(shape):\n",
    "    def __init__(self,raduis):\n",
    "        self.raduis = raduis\n",
    "\n",
    "    def area_of_circle(self):\n",
    "        return 3.14*self.raduis**2\n",
    "        \n",
    "class rectangle(shape):\n",
    "    def __init__(self,width,length):\n",
    "        self.width = width\n",
    "        self.length =length\n",
    "\n",
    "    def area_of_rectangle(self):\n",
    "        return self.width*self.length\n",
    "\n",
    "area = circle(5)\n",
    "print(\"area of circle :\" , area.area_of_circle())\n",
    "area1=rectangle(5,5)\n",
    "print(\"area of rectangle : \", area1.area_of_rectangle())"
   ]
  },
  {
   "cell_type": "code",
   "execution_count": null,
   "id": "aad4985d-dca0-4526-b9c0-3a4a010204b0",
   "metadata": {},
   "outputs": [],
   "source": [
    "12. Explain the use of abstract base classes (ABCs) in Python and how they relate to inheritance. Provide an\n",
    "example using the `abc` module."
   ]
  },
  {
   "cell_type": "code",
   "execution_count": null,
   "id": "01529fa9-5d39-471f-bf29-74aeccfa3450",
   "metadata": {},
   "outputs": [],
   "source": [
    "13. How can you prevent a child class from modifying certain attributes or methods inherited from a parent\n",
    "class in Python?\n"
   ]
  },
  {
   "cell_type": "code",
   "execution_count": 20,
   "id": "4cddf54b-a158-4da5-8512-b946212cd615",
   "metadata": {},
   "outputs": [
    {
     "data": {
      "text/plain": [
       "'vaishali'"
      ]
     },
     "execution_count": 20,
     "metadata": {},
     "output_type": "execute_result"
    }
   ],
   "source": [
    "#Create a Python class called `Employee` with attributes `name` and `salary`. Then, create a child class `Manager` that inherits from `Employee` and adds an attribute `department`. Provide an example.\n",
    "\n",
    "class employee:\n",
    "    def __init__(self, name , salary):\n",
    "        self.name=name\n",
    "        self.salary = salary\n",
    "class manager(employee):\n",
    "    def __init__(self,name,salary,department):\n",
    "        super().__init__(name, salary)\n",
    "        self.department = department \n",
    "employee=employee('ubed', 50000)\n",
    "manager = manager('vaishali',750000,'HR')\n",
    "manager.name"
   ]
  },
  {
   "cell_type": "code",
   "execution_count": 17,
   "id": "45c3da9f-0081-44fb-9943-93769a64350e",
   "metadata": {},
   "outputs": [],
   "source": [
    "#Discuss the concept of method overloading in Python inheritance. How does it differ from method  overriding?\n",
    "''' In Python, method overloading is not supported in the traditional sense as it is in other object-oriented programming languages such as Java and C++.\n",
    "In those languages, method overloading allows you to define multiple methods with the same name but different parameters. \n",
    "However, in Python, if you define a method with the same name as an already existing method, Python will replace the old method with the new method 1.\n",
    "\n",
    "On the other hand, method overriding is supported in Python. \n",
    "Method overriding is when a subclass provides its own implementation of a method that is already defined in its superclass. \n",
    "When a method in a subclass has the same name, same parameters, and same return type (or subtype) as a method in its superclass,\n",
    "then the method in the subclass is said to override the method in the superclass 23.\n",
    "\n",
    "The version of the method that is executed will be determined by the object that is used to invoke it. \n",
    "If an object of a parent class is used to invoke the method, then the version in the parent class will be executed.\n",
    "But if an object of the subclass is used to invoke the method, then the version in the child class will be executed. \n",
    "In other words, it is the type of the object being referred to (not the type of the reference variable) \n",
    "that determines which version of an overridden method will be executed .\n",
    "\n",
    "Here’s an example to illustrate the difference between method overloading and method overriding: '''\n",
    "class MyClass:\n",
    "    def my_method(self, arg1):\n",
    "        print(\"Method with one argument\")\n",
    "\n",
    "    def my_method(self, arg1, arg2):\n",
    "        print(\"Method with two arguments\")\n",
    "\n",
    "class MySubclass(MyClass):\n",
    "    def my_method(self, arg1, arg2):\n",
    "        print(\"Overridden method with two arguments\")\n",
    "\n"
   ]
  },
  {
   "cell_type": "code",
   "execution_count": 13,
   "id": "d7afdbfc-3dd2-4c43-b0af-08feffcf4dea",
   "metadata": {},
   "outputs": [
    {
     "data": {
      "text/plain": [
       "32000"
      ]
     },
     "execution_count": 13,
     "metadata": {},
     "output_type": "execute_result"
    }
   ],
   "source": [
    "#Explain the purpose of the `__init__()` method in Python inheritance and how it is utilized in child classes.\n",
    "\n",
    "'''In Python, the __init__() method is a special method that is called when an object of a class is created. \n",
    "It is used to initialize the attributes of the object 12.\n",
    "\n",
    "When a class is inherited by another class, the child class can override the __init__() method of the parent class. \n",
    "This allows the child class to add its own attributes or modify the attributes of the parent class'''\n",
    "\n",
    "class person:\n",
    "    def __init__(self, name, age):\n",
    "        self.name = name\n",
    "        self.age = age\n",
    "class employee(person):\n",
    "    def __init__(self,name, age,salary):\n",
    "        super().__init__(name, age)\n",
    "        self.salary = salary\n",
    "\n",
    "ubed= person('alex',36)\n",
    "ubed.name\n",
    "rahul = employee('ubed',32,32000)\n",
    "rahul.salary"
   ]
  },
  {
   "cell_type": "code",
   "execution_count": 15,
   "id": "a2bbcbcb-d61c-4e9c-9dc9-a6590c8afee7",
   "metadata": {},
   "outputs": [
    {
     "name": "stdout",
     "output_type": "stream",
     "text": [
      "Eagle will fly at high altitudes and long distance\n",
      "sparrows fly at low altitudes and small distance\n"
     ]
    }
   ],
   "source": [
    "#Create a Python class called `Bird` with a method `fly()`. Then, create child classes `Eagle` and `Sparrow` that inherit from `Bird` and implement the `fly()` method differently. Provide an example of using these\n",
    "#classes.\n",
    "\n",
    "class bird:\n",
    "    def fly(self):\n",
    "        pass\n",
    "class Eagle(bird):\n",
    "    def fly(self):\n",
    "        return \"Eagle will fly at high altitudes and long distance\"\n",
    "class Sparrow(bird):\n",
    "    def fly(self):\n",
    "        return \"sparrows fly at low altitudes and small distance\"\n",
    "bird = Eagle()\n",
    "print(bird.fly())\n",
    "Bird = Sparrow()\n",
    "print(Bird.fly())"
   ]
  },
  {
   "cell_type": "code",
   "execution_count": null,
   "id": "8e0d0f76-5231-4952-9739-5dec51ef8e80",
   "metadata": {},
   "outputs": [],
   "source": [
    "18. What is the \"diamond problem\" in multiple inheritance, and how does Python address it?\n",
    "\n",
    "\n",
    "19. Discuss the concept of \"is-a\" and \"has-a\" relationships in inheritance, and provide examples of each.\n",
    "\n",
    "\n",
    "20. Create a Python class hierarchy for a university system. Start with a base class `Person` and create child\n",
    "classes `Student` and `Professor`, each with their own attributes and methods. Provide an example of using\n",
    "these classes in a university context."
   ]
  },
  {
   "cell_type": "code",
   "execution_count": 2,
   "id": "19c2bb93-e69f-49b2-95db-d5b0eb0a509e",
   "metadata": {},
   "outputs": [
    {
     "data": {
      "text/plain": [
       "('ubed', 32)"
      ]
     },
     "execution_count": 2,
     "metadata": {},
     "output_type": "execute_result"
    }
   ],
   "source": [
    "'''Encapsulation:'''\n",
    "#Explain the concept of encapsulation in Python. What is its role in object-oriented programming?\n",
    "''' Encapsulation is a fundamental concept in object-oriented programming (OOP) that describes the idea of wrapping data \n",
    "and the methods that work on data within one unit. \n",
    "This puts restrictions on accessing variables and methods directly and can prevent the accidental modification of data. \n",
    "In Python, encapsulation is implemented by using private variables. A private variable can only be changed by an object’s method, \n",
    "and not directly accessed from outside the object.\n",
    "This helps to ensure that an object’s state is always valid by controlling access to attributes that are hidden from the outside world 12.\n",
    "\n",
    "In Python, encapsulation is achieved by using the convention of prefixing the name of the member by a single underscore “_”. \n",
    "This makes the variable private and can only be accessed within the class. \n",
    "Protected members (in C++ and JAVA) are those members of the class that cannot be accessed outside the class but can be accessed from within the class and its subclasses.\n",
    "To accomplish this in Python, just follow the convention by prefixing the name of the member by a double underscore “__” 1.\n",
    "\n",
    "A class is an example of encapsulation as it encapsulates all the data that is member functions, variables, etc. \n",
    "The goal of information hiding is to ensure that an object’s state is always valid by controlling access to attributes that are hidden from the outside world 1.'''\n",
    "\n",
    "class info:\n",
    "    def __init__(self, name , age ):\n",
    "        self.__name = name\n",
    "        self.__age = age\n",
    "    def display(self):\n",
    "        return (self.__name, self.__age)\n",
    "ob =info('ubed', 32)\n",
    "ob.display()"
   ]
  },
  {
   "cell_type": "code",
   "execution_count": null,
   "id": "39541b65-5f77-4f89-b075-bac44335b9c5",
   "metadata": {},
   "outputs": [],
   "source": [
    "#Describe the key principles of encapsulation, including access control and data hiding.\n",
    "''' Encapsulation is a fundamental concept in object-oriented programming (OOP) that describes the idea of wrapping data and the methods that work on data within one unit. \n",
    "This puts restrictions on accessing variables and methods directly and can prevent the accidental modification of data ¹²³. \n",
    "\n",
    "The key principles of encapsulation are **access control** and **data hiding**.\n",
    "Access control refers to the ability to restrict access to certain parts of an object, such as variables or methods.\n",
    "This is achieved by using access modifiers such as **public**, **private**, and **protected**. \n",
    "Public members are accessible from anywhere, private members are only accessible within the class, \n",
    "and protected members are accessible within the class and its subclasses .\n",
    "\n",
    "Data hiding refers to the ability to hide the implementation details of an object from the outside world. \n",
    "This is achieved by making the variables or data members of a class private, which means they can only be accessed within the class.\n",
    "To allow outside access to the instance variables, public methods called getters and setters are defined, \n",
    "which are used to retrieve and modify the values of the instance variables, respectively. By using getters and setters, \n",
    "the class can enforce its own data validation rules and ensure that its internal state remains consistent.\n",
    "\n",
    "In summary, encapsulation is a powerful tool in OOP that allows us to bundle data and methods together into a single unit. \n",
    "Access control and data hiding are two key principles of encapsulation that help us to control access to the data and methods of an object, \n",
    "and ensure that the object's internal state remains consistent and valid.'''\n",
    "\n"
   ]
  },
  {
   "cell_type": "code",
   "execution_count": null,
   "id": "24f54277-24ef-4fa6-8126-e912ffbcd3bb",
   "metadata": {},
   "outputs": [],
   "source": [
    "# How can you achieve encapsulation in Python classes? Provide an example.\n",
    "''' Encapsulation is a fundamental concept in object-oriented programming (OOP) that describes the idea of wrapping data \n",
    "and the methods that work on data within one unit. \n",
    "This puts restrictions on accessing variables and methods directly and can prevent the accidental modification of data. \n",
    "In Python, encapsulation is implemented by using private variables. A private variable can only be changed by an object’s method, \n",
    "and not directly accessed from outside the object.\n",
    "This helps to ensure that an object’s state is always valid by controlling access to attributes that are hidden from the outside world 12.\n",
    "\n",
    "In Python, encapsulation is achieved by using the convention of prefixing the name of the member by a single underscore “_”. \n",
    "This makes the variable private and can only be accessed within the class. \n",
    "Protected members (in C++ and JAVA) are those members of the class that cannot be accessed outside the class but can be accessed from within the class and its subclasses.\n",
    "To accomplish this in Python, just follow the convention by prefixing the name of the member by a double underscore “__” 1.\n",
    "\n",
    "A class is an example of encapsulation as it encapsulates all the data that is member functions, variables, etc. \n",
    "The goal of information hiding is to ensure that an object’s state is always valid by controlling access to attributes that are hidden from the outside world 1.'''\n",
    "\n",
    "class info:\n",
    "    def __init__(self, name , age ):\n",
    "        self.__name = name\n",
    "        self.__age = age\n",
    "    def display(self):\n",
    "        return (self.__name, self.__age)\n",
    "ob =info('ubed', 32)\n",
    "ob.display()"
   ]
  },
  {
   "cell_type": "code",
   "execution_count": 4,
   "id": "2d88c2de-a853-410b-97a5-704fc9a3086e",
   "metadata": {},
   "outputs": [
    {
     "name": "stdout",
     "output_type": "stream",
     "text": [
      "John\n"
     ]
    },
    {
     "ename": "AttributeError",
     "evalue": "'Person' object has no attribute '__name'",
     "output_type": "error",
     "traceback": [
      "\u001b[1;31m---------------------------------------------------------------------------\u001b[0m",
      "\u001b[1;31mAttributeError\u001b[0m                            Traceback (most recent call last)",
      "Cell \u001b[1;32mIn[4], line 26\u001b[0m\n\u001b[0;32m     23\u001b[0m        \u001b[38;5;28mself\u001b[39m\u001b[38;5;241m.\u001b[39m__age \u001b[38;5;241m=\u001b[39m age\n\u001b[0;32m     25\u001b[0m p \u001b[38;5;241m=\u001b[39m Person(\u001b[38;5;124m\"\u001b[39m\u001b[38;5;124mJohn\u001b[39m\u001b[38;5;124m\"\u001b[39m, \u001b[38;5;241m36\u001b[39m)\n\u001b[1;32m---> 26\u001b[0m \u001b[38;5;28mprint\u001b[39m(\u001b[43mp\u001b[49m\u001b[38;5;241;43m.\u001b[39;49m\u001b[43m__name\u001b[49m) \u001b[38;5;66;03m# Output: AttributeError: 'Person' object has no attribute '__name'\u001b[39;00m\n\u001b[0;32m     28\u001b[0m \u001b[38;5;124;03m'''Protected Access Modifier: The members of a class that are declared protected are only accessible to a class derived from it. \u001b[39;00m\n\u001b[0;32m     29\u001b[0m \u001b[38;5;124;03mData members of a class are declared protected by adding a single underscore ‘_’ symbol before the data member of that class. \u001b[39;00m\n\u001b[0;32m     30\u001b[0m \u001b[38;5;124;03mFor example:'''\u001b[39;00m\n\u001b[0;32m     31\u001b[0m \u001b[38;5;28;01mclass\u001b[39;00m \u001b[38;5;21;01mPerson\u001b[39;00m:\n",
      "\u001b[1;31mAttributeError\u001b[0m: 'Person' object has no attribute '__name'"
     ]
    }
   ],
   "source": [
    " #Discuss the difference between public, private, and protected access modifiers in Python.\n",
    "'''In Python, access modifiers are used to restrict access to the variables and methods of a class. \n",
    "There are three types of access modifiers in Python: public, private, and protected.\n",
    "\n",
    "Public Access Modifier: The members of a class that are declared public are easily accessible from any part of the program. \n",
    "All data members and member functions of a class are public by default. \n",
    "For example:'''\n",
    "\n",
    "class Person:\n",
    "    def __init__(self, name, age):\n",
    "        self.name = name\n",
    "        self.age = age\n",
    "\n",
    "p = Person(\"John\", 36)\n",
    "print(p.name) # Output: John\n",
    "\n",
    "'''Private Access Modifier: The members of a class that are declared private are accessible within the class only. \n",
    "Data members of a class are declared private by adding a double underscore ‘__’ symbol before the data member of that class. \n",
    "For example:'''\n",
    "class Person:\n",
    "    def __init__(self, name, age):\n",
    "        self.__name = name\n",
    "        self.__age = age\n",
    "\n",
    "p = Person(\"John\", 36)\n",
    "print(p.__name) # Output: AttributeError: 'Person' object has no attribute '__name'\n",
    "\n",
    "'''Protected Access Modifier: The members of a class that are declared protected are only accessible to a class derived from it. \n",
    "Data members of a class are declared protected by adding a single underscore ‘_’ symbol before the data member of that class. \n",
    "For example:'''\n",
    "class Person:\n",
    "    def __init__(self, name, age):\n",
    "        self._name = name\n",
    "        self._age = age\n",
    "\n",
    "class Student(Person):\n",
    "    def __init__(self, name, age, grade):\n",
    "        Person.__init__(self, name, age)\n",
    "        self.grade = grade\n",
    "\n",
    "s = Student(\"John\", 36, \"A\")\n",
    "print(s._name) # Output: John\n"
   ]
  },
  {
   "cell_type": "code",
   "execution_count": 17,
   "id": "940be9ee-29fb-4812-9447-b7a84a29fb81",
   "metadata": {},
   "outputs": [
    {
     "data": {
      "text/plain": [
       "'ulfat'"
      ]
     },
     "execution_count": 17,
     "metadata": {},
     "output_type": "execute_result"
    }
   ],
   "source": [
    "#Create a Python class called `Person` with a private attribute `__name`. Provide methods to get and set the name attribute.\n",
    "class person:\n",
    "    def __init__(self,name):\n",
    "        self.__name = name \n",
    "        \n",
    "    @property\n",
    "    def name(self):\n",
    "        return self.__name\n",
    "       \n",
    "    @name.setter\n",
    "    def name(self, name):\n",
    "       self.__name = name\n",
    "\n",
    "    @name.getter\n",
    "    def name(self):\n",
    "       return self.__name \n",
    "ullu = person('ulfat')\n",
    "ullu.name"
   ]
  },
  {
   "cell_type": "code",
   "execution_count": 19,
   "id": "af302110-ed3f-46e8-aa1d-77cddcf2182c",
   "metadata": {},
   "outputs": [
    {
     "data": {
      "text/plain": [
       "'data science'"
      ]
     },
     "execution_count": 19,
     "metadata": {},
     "output_type": "execute_result"
    }
   ],
   "source": [
    "#Explain the purpose of getter and setter methods in encapsulation. Provide examples.\n",
    "'''Encapsulation is a fundamental concept in object-oriented programming (OOP) that describes the idea of wrapping data and the methods that work on data within one unit. \n",
    "This puts restrictions on accessing variables and methods directly and can prevent the accidental modification of data.\n",
    "\n",
    "In Python, getters and setters are used to ensure data encapsulation. \n",
    "Private variables in Python are not actually hidden fields like in other object-oriented languages. \n",
    "Getters and setters in Python are often used when we want to add validation logic around getting and setting a value, or to avoid direct access of a class field, \n",
    "i.e., private variables cannot be accessed directly or modified by external users 14.\n",
    "\n",
    "To make a variable private in Python, we use the convention of prefixing the name of the member by a single underscore “_” . \n",
    "This makes the variable private and can only be accessed within the class. \n",
    "To allow outside access to the instance variables, public methods called getters and setters are defined, \n",
    "which are used to retrieve and modify the values of the instance variables, respectively. By using getters and setters, \n",
    "the class can enforce its own data validation rules and ensure that its internal state remains consistent'''\n",
    "\n",
    "class ubed:\n",
    "    def __init__(self, subject):\n",
    "        self.__subject = subject\n",
    "    @property \n",
    "    def subject(self):\n",
    "        return self.__subject\n",
    "\n",
    "    @subject.setter\n",
    "    def subject(self, subject):\n",
    "         self.__subject = subject\n",
    "\n",
    "    @subject.getter\n",
    "    def subject(self):\n",
    "        return self.__subject\n",
    "uma = ubed('data science') \n",
    "uma.subject"
   ]
  },
  {
   "cell_type": "code",
   "execution_count": 25,
   "id": "3de9d14c-8b67-486b-ad61-13a098929fb8",
   "metadata": {},
   "outputs": [
    {
     "data": {
      "text/plain": [
       "'guru'"
      ]
     },
     "execution_count": 25,
     "metadata": {},
     "output_type": "execute_result"
    }
   ],
   "source": [
    "#What is name mangling in Python, and how does it affect encapsulation?\n",
    "'''In Python, name mangling is a process that is used to make private attributes of a class more difficult to access from outside the class. \n",
    "In this process, any identifier with two leading underscores and one trailing underscore is textually replaced with _classname__identifier, \n",
    "where classname is the name of the current class. This means that any identifier of the form __geek (at least two leading underscores or at most one trailing underscore)\n",
    "is replaced with _classname__geek, where classname is the current class name with leading underscore(s) stripped 1.\n",
    "\n",
    "Name mangling is used to avoid naming conflicts between different classes and to make it harder to access private attributes from outside the class. \n",
    "However, it does not provide true data hiding or security, as the mangled name can still be accessed from outside the class if the correct name is known \n",
    "\n",
    "In terms of encapsulation, name mangling can be used to implement private attributes in Python classes. \n",
    "By using name mangling, we can make it more difficult to access private attributes from outside the class, \n",
    "which helps to ensure that an object’s state is always valid by controlling access to attributes that are hidden from the outside world .'''\n",
    "class person:\n",
    "    def __init__(self,name, age):\n",
    "        self.__name = name\n",
    "        self.__age = age\n",
    "surya = person('guru', 32)\n",
    "surya._person__name"
   ]
  },
  {
   "cell_type": "code",
   "execution_count": 21,
   "id": "e1169899-443f-4cd9-9bb6-bb84d4987598",
   "metadata": {},
   "outputs": [
    {
     "name": "stdin",
     "output_type": "stream",
     "text": [
      "enter the amount to withdraw 5000\n"
     ]
    },
    {
     "data": {
      "text/plain": [
       "'entered amount of 5000.0 is withdrawn and current balance is 20000.0'"
      ]
     },
     "execution_count": 21,
     "metadata": {},
     "output_type": "execute_result"
    }
   ],
   "source": [
    "#Create a Python class called `BankAccount` with private attributes for the account balance (`__balance`) and account number (`__account_number`). \n",
    "#Provide methods for depositing and withdrawing money.\n",
    "class bankaccount:\n",
    "    def __init__(self,account_number,balance):\n",
    "        self.__account_number = account_number\n",
    "        self.__balance = balance\n",
    "        \n",
    "    def deposit(self):\n",
    "        n= float(input(\"enter the amount to deposit\"))\n",
    "        updated_amount=self.__balance+n\n",
    "        self.__balance = updated_amount\n",
    "        return f\"entered amount {n} is deposited and updated balance is {updated_amount}\"\n",
    "    \n",
    "    def withdraw(self):\n",
    "        m = float(input(\"enter the amount to withdraw\"))\n",
    "        updated_balance = self.__balance - m\n",
    "        self.__balance = updated_balance\n",
    "        return f\"entered amount of {m} is withdrawn and current balance is {updated_balance}\"\n",
    "umaira = bankaccount(62063354933,25000)\n",
    "umaira.withdraw()"
   ]
  },
  {
   "cell_type": "code",
   "execution_count": null,
   "id": "56b9ec64-d0a9-4e60-b971-096de630ad3d",
   "metadata": {},
   "outputs": [],
   "source": [
    "#Discuss the advantages of encapsulation in terms of code maintainability and security.\n",
    "'''Encapsulation is a fundamental concept in object-oriented programming (OOP) that describes the idea of wrapping data and the methods that work on data within one unit.\n",
    "This puts restrictions on accessing variables and methods directly and can prevent the accidental modification of data. \n",
    "\n",
    "In terms of code maintainability, encapsulation provides several benefits. \n",
    "First, it improves code organization by grouping related data and methods together into a single unit. \n",
    "This makes the code easier to read, understand, and modify.\n",
    "Second, encapsulation enhances security and protection for object data by making it more difficult to access private attributes from outside the class. \n",
    "This helps to ensure that an objects state is always valid by controlling access to attributes that are hidden from the outside world.\n",
    "Finally, encapsulation makes it easier to debug code if needed, as the code is more modular and flexible.\n",
    "\n",
    "In terms of security, encapsulation provides several benefits as well. \n",
    "By hiding the implementation details of an object from the outside world, encapsulation helps to prevent unauthorized access to sensitive data. \n",
    "This is achieved by making the variables or data members of a class private, which means they can only be accessed within the class. \n",
    "To allow outside access to the instance variables, public methods called getters and setters are defined, which are used to retrieve and \n",
    "modify the values of the instance variables, respectively.\n",
    "By using getters and setters, the class can enforce its own data validation rules and ensure that its internal state remains consistent .\n",
    "\n",
    "In summary, encapsulation is a powerful tool in OOP that allows us to bundle data and methods together into a single unit. \n",
    "Encapsulation provides several advantages in terms of code maintainability and security, \n",
    "including improved code organization, enhanced security and protection for object data, better code maintainability, easier debugging, \n",
    "and a higher degree of modularity.'''\n"
   ]
  },
  {
   "cell_type": "code",
   "execution_count": null,
   "id": "f84a3368-edd5-47c2-ad0a-0842201a0614",
   "metadata": {},
   "outputs": [],
   "source": [
    "#How can you access private attributes in Python? Provide an example demonstrating the use of name mangling.\n",
    "'''In Python, name mangling is a process that is used to make private attributes of a class more difficult to access from outside the class. \n",
    "In this process, any identifier with two leading underscores and one trailing underscore is textually replaced with _classname__identifier, \n",
    "where classname is the name of the current class. This means that any identifier of the form __geek (at least two leading underscores or at most one trailing underscore)\n",
    "is replaced with _classname__geek, where classname is the current class name with leading underscore(s) stripped 1.\n",
    "\n",
    "Name mangling is used to avoid naming conflicts between different classes and to make it harder to access private attributes from outside the class. \n",
    "However, it does not provide true data hiding or security, as the mangled name can still be accessed from outside the class if the correct name is known \n",
    "\n",
    "In terms of encapsulation, name mangling can be used to implement private attributes in Python classes. \n",
    "By using name mangling, we can make it more difficult to access private attributes from outside the class, \n",
    "which helps to ensure that an object’s state is always valid by controlling access to attributes that are hidden from the outside world .'''\n",
    "class person:\n",
    "    def __init__(self,name, age):\n",
    "        self.__name = name\n",
    "        self.__age = age\n",
    "surya = person('guru', 32)\n",
    "surya._person__name\n"
   ]
  },
  {
   "cell_type": "code",
   "execution_count": null,
   "id": "d650215e-ffd8-4b78-86f2-dab0e880e451",
   "metadata": {},
   "outputs": [],
   "source": [
    "#Create a Python class hierarchy for a school system, including classes for students, teachers, and courses,\n",
    "#and implement encapsulation principles to protect sensitive information.\n",
    "class "
   ]
  },
  {
   "cell_type": "code",
   "execution_count": null,
   "id": "4517ed3f-c993-47b4-84f2-e6d131025ad5",
   "metadata": {},
   "outputs": [],
   "source": [
    "#Explain the concept of property decorators in Python and how they relate to encapsulation.\n",
    "''' In Python, **property decorators** are used to encapsulate class attributes and provide a way to access them. \n",
    "Encapsulation is a way of restricting access to the internal state of an object, and it is an important concept in object-oriented programming. \n",
    "\n",
    "In Python, we can use the `@property` decorator to define a method that can be accessed like an attribute. \n",
    "This method is called a **getter** method, and it is used to retrieve the value of an attribute. \n",
    "We can also define a **setter** method using the `@<attribute>.setter` decorator, which is used to set the value of an attribute. \n",
    "\n",
    "By using property decorators, we can ensure that the internal state of an object is not modified directly,\n",
    "but only through the getter and setter methods. This helps to maintain the integrity of the object's internal state and makes it easier to debug and maintain the code.\n",
    "\n",
    "In terms of encapsulation, property decorators help to hide the implementation details of a class from the outside world. \n",
    "By using getters and setters, we can control how the attributes of a class are accessed and modified. \n",
    "This allows us to change the implementation of a class without affecting the code that uses it. \n",
    "\n",
    "In summary, property decorators in Python are a powerful tool for encapsulating class attributes and providing a way to access them.\n",
    "They help to maintain the integrity of an object's internal state and make it easier to debug and maintain the code. \n",
    "They also help to hide the implementation details of a class from the outside world, which is an important aspect of encapsulation.'''"
   ]
  },
  {
   "cell_type": "code",
   "execution_count": 9,
   "id": "50f452ca-d04c-4505-9cd9-608b2afe9320",
   "metadata": {},
   "outputs": [
    {
     "data": {
      "text/plain": [
       "'umaiza'"
      ]
     },
     "execution_count": 9,
     "metadata": {},
     "output_type": "execute_result"
    }
   ],
   "source": [
    "#What is data hiding, and why is it important in encapsulation? Provide examples.\n",
    "'''Data hiding is a fundamental concept in object-oriented programming that refers to the practice of hiding the implementation details of an object from outside world.\n",
    "In Python, data hiding is achieved by using the double underscore prefix before the name of the variable or method.\n",
    "\n",
    "Encapsulation is a technique that bundles data and methods that operate on that data within a single unit, which is called a class in Python. \n",
    "Encapsulation is important in object-oriented programming because it helps to protect the data from being accessed by unauthorized users. \n",
    "It also enhances code reusability and modularity in Python programs .'''\n",
    "\n",
    "\n",
    "class person:\n",
    "    def __init__(self, name, age):\n",
    "        self.__name = name\n",
    "        self.__age = age\n",
    "\n",
    "    def get_name(self):\n",
    "        return self.__name\n",
    "\n",
    "    def get_age(self):\n",
    "        return self.__age\n",
    "\n",
    "    def set_name(self, name):\n",
    "        self.__name = name\n",
    "\n",
    "    def set_age(self, age):\n",
    "        self.__age = age\n",
    "\n",
    "\n",
    "ubed = person('umaira', 2)\n",
    "ubed.get_name()\n",
    "ubed.get_age()\n",
    "ubed.set_name('umaiza')\n",
    "ubed.get_name()"
   ]
  },
  {
   "cell_type": "code",
   "execution_count": 6,
   "id": "3a5fa4b4-230f-4be4-9221-c4fa9e095c21",
   "metadata": {},
   "outputs": [
    {
     "data": {
      "text/plain": [
       "16200.0"
      ]
     },
     "execution_count": 6,
     "metadata": {},
     "output_type": "execute_result"
    }
   ],
   "source": [
    "#Create a Python class called `Employee` with private attributes for salary (`__salary`) and employee ID (`__employee_id`). \n",
    "#Provide a method to calculate yearly bonuses.\n",
    "class employee:\n",
    "    def __init__(self,salary,employee_ID):\n",
    "        self.__salary = salary\n",
    "        self.__employee_ID = employee_ID\n",
    "\n",
    "    def yearly_bonus(self):\n",
    "        yearly_bonus = 0.3*self.__salary\n",
    "        return  yearly_bonus\n",
    "employee= employee(54000,231245)  \n",
    "employee.yearly_bonus()"
   ]
  },
  {
   "cell_type": "code",
   "execution_count": null,
   "id": "60f53ab2-3578-4ccd-9775-ec3c95487102",
   "metadata": {},
   "outputs": [],
   "source": [
    "15. Discuss the use of accessors and mutators in encapsulation. How do they help maintain control over\n",
    "attribute access?\n"
   ]
  },
  {
   "cell_type": "code",
   "execution_count": null,
   "id": "9ce888d9-2dfc-4a1b-a759-72ca5d6ba93d",
   "metadata": {},
   "outputs": [],
   "source": [
    "#What are the potential drawbacks or disadvantages of using encapsulation in Python?\n",
    "''' Encapsulation is a fundamental concept in object-oriented programming that helps to protect the data from being accessed by unauthorized users.\n",
    "However, there are some potential drawbacks or disadvantages of using encapsulation in Python. \n",
    "According to my search results, some of the disadvantages of using encapsulation in Python are:\n",
    "\n",
    "Code Size: \n",
    "\n",
    "The length of the code increases drastically in the case of encapsulation as we need to provide all the methods with the specifiers .\n",
    "\n",
    "More Instructions:\n",
    "\n",
    "As the size of the code increases, therefore, you need to provide additional instructions for every method .\n",
    "\n",
    "Increased Code Execution: \n",
    "\n",
    "Encapsulation results in an increase in the duration of the program execution. \n",
    "It is because more instructions are added to the code, therefore they require more time to execute '''"
   ]
  },
  {
   "cell_type": "code",
   "execution_count": null,
   "id": "ed771ea2-af65-4d0c-997f-66d1b88a4678",
   "metadata": {},
   "outputs": [],
   "source": [
    "#Create a Python class for a library system that encapsulates book information, including titles, authors, and availability status.\n",
    "\n",
    "class library:\n",
    "    def __init__(self,title,author,availability)"
   ]
  },
  {
   "cell_type": "code",
   "execution_count": null,
   "id": "0989a426-59a8-4b05-a257-7f534c249579",
   "metadata": {},
   "outputs": [],
   "source": [
    "#Explain how encapsulation enhances code reusability and modularity in Python programs.\n",
    "'''  Encapsulation is a fundamental concept in object-oriented programming that helps to protect the data from being accessed by unauthorized users. \n",
    "It also enhances code reusability and modularity in Python programs.\n",
    "\n",
    "Encapsulation enables the developer to create a black box where the internal details of the object are hidden from the outside world. \n",
    "This means that the object can be used without knowing how it works internally. This makes the code more modular and easier to maintain .\n",
    "\n",
    "Encapsulation also helps to reduce the complexity of the code by hiding the implementation details of the object. \n",
    "This makes the code more reusable as the object can be used in different parts of the program without worrying about the implementation details .\n",
    "\n",
    "In summary, encapsulation enhances code reusability and modularity in Python programs by making the code more modular, easier to maintain, and more reusable.'''"
   ]
  },
  {
   "cell_type": "code",
   "execution_count": null,
   "id": "65073e3d-6ea9-4aca-bcd6-28a9b35923bb",
   "metadata": {},
   "outputs": [],
   "source": [
    "#Describe the concept of information hiding in encapsulation. Why is it essential in software development?\n",
    "'''Information hiding is a fundamental concept in object-oriented programming that refers to the practice of hiding the implementation details of an object \n",
    "from outside world. \n",
    "It is achieved by encapsulating the information into a module or other construct that presents an interface .\n",
    "\n",
    "In Python, data hiding is achieved by using the double underscore prefix before the name of the variable or method .\n",
    "Encapsulation is a technique that bundles data and methods that operate on that data within a single unit, which is called a class in Python.\n",
    "Encapsulation is important in software development because it helps to protect the data from being accessed by unauthorized users.\n",
    "It also enhances code reusability and modularity in Python programs ''' "
   ]
  },
  {
   "cell_type": "code",
   "execution_count": 19,
   "id": "2618513f-f092-478f-8d8c-875e6ed5d9ac",
   "metadata": {},
   "outputs": [
    {
     "data": {
      "text/plain": [
       "'rahul'"
      ]
     },
     "execution_count": 19,
     "metadata": {},
     "output_type": "execute_result"
    }
   ],
   "source": [
    "#Create a Python class called `Customer` with private attributes for customer details like name, address, and contact information. \n",
    "#Implement encapsulation to ensure data integrity and security.`\n",
    "\n",
    "class customer:\n",
    "     \n",
    "   def __init__(self,name,address,phn_number):\n",
    "        self.__name = name\n",
    "        self.__address = address\n",
    "        self.__phn_number = phn_number\n",
    "\n",
    "   def get_name(self):\n",
    "       return self.__name\n",
    "   def set_name(self, name):\n",
    "       self.__name = name\n",
    "   def get_address(self):\n",
    "       return self.__address\n",
    "   def set_address(self,address):\n",
    "       self.__address = address\n",
    "   def get_number(self):\n",
    "       return  self.__phn_number\n",
    "   def set_number(self,phn_number):    \n",
    "       self.__phn_number = phn_number\n",
    "\n",
    "    \n",
    "ub = customer('ubed','A506',7982731258)   \n",
    "ub.get_name()\n",
    "ub.set_name('rahul')\n",
    "ub.get_name()"
   ]
  },
  {
   "cell_type": "code",
   "execution_count": 25,
   "id": "fc43f7bc-45f2-4e56-8d6f-8be8b6c66709",
   "metadata": {},
   "outputs": [],
   "source": [
    "'''polymorphism'''\n",
    "\n",
    "#What is polymorphism in Python? Explain how it is related to object-oriented programming.\n",
    "\n",
    "'''Polymorphism is a fundamental concept in object-oriented programming that allows objects of different classes to be treated as if they were of the same class. \n",
    "In Python, polymorphism is achieved through method overloading and method overriding. \n",
    "Method overloading is when a class has multiple methods with the same name but different parameters,\n",
    "while method overriding is when a subclass provides a different implementation of a method that is already defined in its parent class.\n",
    "\n",
    "For example, let's say we have a `Shape` class with a method called `area()`.\n",
    "We can create subclasses such as `Circle`, `Rectangle`, and `Triangle` that inherit from the `Shape` class and provide their own implementation of the `area()` method. \n",
    "When we call the `area()` method on an object of any of these subclasses, Python will automatically call the appropriate implementation based on the object's class.\n",
    "\n",
    "Polymorphism is a powerful tool in object-oriented programming because it allows us to write more flexible and reusable code.\n",
    "By treating objects of different classes as if they were of the same class, we can write code that is more generic and can work with a wider range of objects.'''\n",
    "\n",
    "\n",
    "\n"
   ]
  },
  {
   "cell_type": "code",
   "execution_count": null,
   "id": "e3d2c878-3848-4aca-8e80-f6f2d006f929",
   "metadata": {},
   "outputs": [],
   "source": [
    "#Describe the difference between compile-time polymorphism and runtime polymorphism in Python.\n",
    "''' In Python, **compile-time polymorphism** is not supported. Method overloading, which is an example of compile-time polymorphism, \n",
    "is when a class has multiple methods with the same name but different parameters. However, in Python, \n",
    "if we define multiple methods with the same name, the method defined last will override the earlier ones .\n",
    "\n",
    "On the other hand, **runtime polymorphism** is supported in Python through method overriding. \n",
    "Method overriding is when a subclass provides a different implementation of a method that is already defined in its parent class. \n",
    "When we call the method on an object of the subclass, Python will automatically call the appropriate implementation based on the object's class.\n",
    "\n",
    "The key difference between compile-time polymorphism and runtime polymorphism is that in compile-time polymorphism, \n",
    "the method to be called is determined at compile-time based on the number and types of arguments passed to the method, \n",
    "while in runtime polymorphism, the method to be called is determined at runtime based on the actual object's class.'''\n"
   ]
  },
  {
   "cell_type": "code",
   "execution_count": 15,
   "id": "6ef1718b-8b0b-46d4-b542-5dd244e82f50",
   "metadata": {},
   "outputs": [
    {
     "name": "stdout",
     "output_type": "stream",
     "text": [
      "Area of circle is : 314.0\n",
      "Area of Square is :  100\n",
      "Area of Triangle is :  100.0\n"
     ]
    }
   ],
   "source": [
    "#Create a Python class hierarchy for shapes (e.g., circle, square, triangle) and demonstrate polymorphism through a common method, such as `calculate_area()`.\n",
    "class shape:\n",
    "    def calculate_area(self):\n",
    "        pass\n",
    "        \n",
    "class circle(shape):\n",
    "    def __init__(self, r):\n",
    "        self.r = r\n",
    "    def calculate_area(self):\n",
    "        area = 3.14*self.r**2\n",
    "        return area\n",
    "\n",
    "class square(shape):\n",
    "    def __init__(self,s):\n",
    "        self.s = s\n",
    "    def calculate_area(self):\n",
    "        area = self.s* self.s\n",
    "        return area\n",
    "\n",
    "class triangle(shape):\n",
    "     def __init__(self,b,h):\n",
    "        self.b = b\n",
    "        self.h = h \n",
    "     def calculate_area(self):\n",
    "        area = 0.5*self.h* self.b\n",
    "        return area\n",
    "    \n",
    "area = circle(10)   \n",
    "print(\"Area of circle is :\" , area.calculate_area())\n",
    "\n",
    "area = square(10)\n",
    "print(\"Area of Square is : \" ,area.calculate_area())\n",
    "\n",
    "area = triangle(10,20)\n",
    "print(\"Area of Triangle is : \" ,area.calculate_area())"
   ]
  },
  {
   "cell_type": "code",
   "execution_count": null,
   "id": "6068e7cd-4557-4aa3-b9f5-1e8da41caeba",
   "metadata": {},
   "outputs": [],
   "source": [
    "#Explain the concept of method overriding in polymorphism. Provide an example.\n",
    "'''In object-oriented programming, method overriding is the process of defining a method in a subclass that has the same name, parameters, \n",
    "and return type as a method in its superclass. When the method is called on an object of the subclass, \n",
    "the implementation in the subclass is used instead of the implementation in the superclass. \n",
    "Method overriding is a key feature of polymorphism because it allows objects of different classes to be treated as if they were of the same class'''\n",
    "\n",
    "class shape:\n",
    "    def calculate_area(self):\n",
    "        pass\n",
    "        \n",
    "class circle(shape):\n",
    "    def __init__(self, r):\n",
    "        self.r = r\n",
    "    def calculate_area(self):\n",
    "        area = 3.14*self.r**2\n",
    "        return area\n",
    "\n",
    "class square(shape):\n",
    "    def __init__(self,s):\n",
    "        self.s = s\n",
    "    def calculate_area(self):\n",
    "        area = self.s* self.s\n",
    "        return area\n",
    "\n",
    "class triangle(shape):\n",
    "     def __init__(self,b,h):\n",
    "        self.b = b\n",
    "        self.h = h \n",
    "     def calculate_area(self):\n",
    "        area = 0.5*self.h* self.b\n",
    "        return area\n",
    "    \n",
    "area = circle(10)   \n",
    "print(\"Area of circle is :\" , area.calculate_area())\n",
    "\n",
    "area = square(10)\n",
    "print(\"Area of Square is : \" ,area.calculate_area())\n",
    "\n",
    "area = triangle(10,20)\n",
    "print(\"Area of Triangle is : \" ,area.calculate_area())"
   ]
  },
  {
   "cell_type": "code",
   "execution_count": null,
   "id": "401f2701-6f3b-48bc-879a-588327b98084",
   "metadata": {},
   "outputs": [],
   "source": [
    "#How is polymorphism different from method overloading in Python? Provide examples for both.\n",
    "'''In Python, method overloading is not supported. \n",
    "Method overloading is when a class has multiple methods with the same name but different parameters.\n",
    "However, in Python, if we define multiple methods with the same name, the method defined last will override the earlier ones.\n",
    "\n",
    "On the other hand, \n",
    "polymorphism is a fundamental concept in object-oriented programming that allows objects of different classes to be treated as if they were of the same class. \n",
    "olymorphism is achieved through method overriding and method overloading in other programming languages. \n",
    "Method overriding is when a subclass provides a different implementation of a method that is already defined in its parent class. \n",
    "When we call the method on an object of the subclass, Python will automatically call the appropriate implementation based on the object’s class'''\n",
    "\n",
    "class shape:\n",
    "    def calculate_area(self):\n",
    "        pass\n",
    "        \n",
    "class circle(shape):\n",
    "    def __init__(self, r):\n",
    "        self.r = r\n",
    "    def calculate_area(self):\n",
    "        area = 3.14*self.r**2\n",
    "        return area\n",
    "\n",
    "class square(shape):\n",
    "    def __init__(self,s):\n",
    "        self.s = s\n",
    "    def calculate_area(self):\n",
    "        area = self.s* self.s\n",
    "        return area\n",
    "\n",
    "class triangle(shape):\n",
    "     def __init__(self,b,h):\n",
    "        self.b = b\n",
    "        self.h = h \n",
    "     def calculate_area(self):\n",
    "        area = 0.5*self.h* self.b\n",
    "        return area\n",
    "    \n",
    "area = circle(10)   \n",
    "print(\"Area of circle is :\" , area.calculate_area())\n",
    "\n",
    "area = square(10)\n",
    "print(\"Area of Square is : \" ,area.calculate_area())\n",
    "\n",
    "area = triangle(10,20)\n",
    "print(\"Area of Triangle is : \" ,area.calculate_area())"
   ]
  },
  {
   "cell_type": "code",
   "execution_count": 18,
   "id": "30bc9d69-3664-4e79-9852-214f919e6952",
   "metadata": {},
   "outputs": [
    {
     "name": "stdout",
     "output_type": "stream",
     "text": [
      "dog speak is barking Baw-Baw\n",
      "cat speak is whispering meaow meaow\n",
      "bird speak is chrimping chu-chu\n"
     ]
    }
   ],
   "source": [
    "#Create a Python class called `Animal` with a method `speak()`. Then, create child classes like `Dog`, `Cat`, and `Bird`, each with their own `speak()` method. \n",
    "#Demonstrate polymorphism by calling the `speak()` method on objects of different subclasses.\n",
    "class animal:\n",
    "    def speak():\n",
    "        pass\n",
    "\n",
    "class dog(animal):\n",
    "    def speak(self):\n",
    "        return \"dog speak is barking Baw-Baw\"\n",
    "\n",
    "class cat(animal):\n",
    "    def speak(self):\n",
    "        return \"cat speak is whispering meaow meaow\"\n",
    "\n",
    "class bird(animal):\n",
    "    def speak(self):\n",
    "        return \"bird speak is chrimping chu-chu\"\n",
    "\n",
    "sound = dog()\n",
    "print(sound.speak())\n",
    "sound = cat()\n",
    "print(sound.speak())\n",
    "sound = bird()\n",
    "print(sound.speak())"
   ]
  },
  {
   "cell_type": "code",
   "execution_count": 22,
   "id": "197f1cf3-1e78-4164-b0c6-1c9dabbf6629",
   "metadata": {},
   "outputs": [
    {
     "name": "stdout",
     "output_type": "stream",
     "text": [
      "dog speak is barking Baw-Baw\n",
      "cat speak is whispering meaow meaow\n",
      "bird speak is chrimping chu-chu\n"
     ]
    }
   ],
   "source": [
    "#Discuss the use of abstract methods and classes in achieving polymorphism in Python. Provide an example using the `abc` module.\n",
    "'''In Python, abstract classes are classes that cannot be instantiated and are meant to be used as a base for other classes. \n",
    "Abstract classes can define abstract methods, which are methods that have no implementation in the abstract class but must be implemented in any concrete subclass. \n",
    "Abstract classes and methods are useful for achieving polymorphism in Python because they allow objects of different classes to be treated as if they were ofthe sameclass.\n",
    "\n",
    "The abc module in Python provides the infrastructure for defining abstract base classes (ABCs) and abstract methods. \n",
    "To define an abstract class, we can use the ABC class from the abc module as a base class and decorate any abstract methods with the @abstractmethod decorator.\n",
    "Here’s an example: '''\n",
    "\n",
    "from abc import ABC, abstractmethod\n",
    "\n",
    "class animal(ABC):\n",
    "    @abstractmethod\n",
    "    def speak():\n",
    "        pass\n",
    "\n",
    "class dog(animal):\n",
    "    def speak(self):\n",
    "        return \"dog speak is barking Baw-Baw\"\n",
    "\n",
    "class cat(animal):\n",
    "    def speak(self):\n",
    "        return \"cat speak is whispering meaow meaow\"\n",
    "\n",
    "class bird(animal):\n",
    "    def speak(self):\n",
    "        return \"bird speak is chrimping chu-chu\"\n",
    "\n",
    "sound = dog()\n",
    "print(sound.speak())\n",
    "sound = cat()\n",
    "print(sound.speak())\n",
    "sound = bird()\n",
    "print(sound.speak())\n"
   ]
  },
  {
   "cell_type": "code",
   "execution_count": 21,
   "id": "a27a8cb1-5e7b-40f6-89df-063a86ffeb10",
   "metadata": {},
   "outputs": [
    {
     "name": "stdout",
     "output_type": "stream",
     "text": [
      "car will be started with help of start button and driven using steering\n",
      "bicycle is started by appyling pressure on padles with foot\n",
      "boat is started by motor or using see saw\n"
     ]
    }
   ],
   "source": [
    "#Create a Python class hierarchy for a vehicle system (e.g., car, bicycle, boat) and implement a polymorphic `start()` method that prints a message specific to each vehicle type.\n",
    "class vehicle_system:\n",
    "    def start(self):\n",
    "        pass\n",
    "class car(vehicle_system):\n",
    "    def start(self):\n",
    "        return \"car will be started with help of start button and driven using steering\"\n",
    "class bicycle(vehicle_system):\n",
    "    def start(self):\n",
    "        return \"bicycle is started by appyling pressure on padles with foot\"\n",
    "\n",
    "class boat(vehicle_system):\n",
    "    def start(self):\n",
    "        return \"boat is started by motor or using see saw\"\n",
    "key = car()\n",
    "print(key.start())\n",
    "key = bicycle()\n",
    "print(key.start())\n",
    "key = boat()\n",
    "print(key.start())"
   ]
  },
  {
   "cell_type": "code",
   "execution_count": null,
   "id": "a7bac27d-5269-4de8-8527-ac53cc5b54e6",
   "metadata": {},
   "outputs": [],
   "source": [
    "#Explain the significance of the `isinstance()` and `issubclass()` functions in Python polymorphism.\n",
    "In Python, isinstance() and issubclass() are built-in functions that are used to check the type of an object and its class hierarchy, respectively.\n",
    "These functions are significant in Python polymorphism because they allow us to write more flexible and reusable code that can work with a wider range of objects.\n",
    "The isinstance() function takes two arguments: an object and a class or a tuple of classes. \n",
    "It returns True if the object is an instance of the class or any of the classes in the tuple, and False otherwise. Here’s an example:\n",
    "class Shape:\n",
    "    pass\n",
    "\n",
    "class Circle(Shape):\n",
    "    pass\n",
    "\n",
    "circle = Circle()\n",
    "\n",
    "print(isinstance(circle, Circle))  # True\n",
    "print(isinstance(circle, Shape))   # True\n",
    "print(isinstance(circle, object))  # True\n",
    "print(isinstance(circle, int))     # False\n",
    "\n",
    "The issubclass() function takes two arguments: a class and a class or a tuple of classes. \n",
    "It returns True if the first class is a subclass of the second class or any of the classes in the tuple, and False otherwise. Here’s an example:\n",
    "\n",
    "class Shape:\n",
    "    pass\n",
    "\n",
    "class Circle(Shape):\n",
    "    pass\n",
    "\n",
    "print(issubclass(Circle, Shape))  # True\n",
    "print(issubclass(Shape, Circle))  # False\n",
    "print(issubclass(Circle, object)) # True\n"
   ]
  },
  {
   "cell_type": "code",
   "execution_count": null,
   "id": "f9aef12d-220e-408f-8d13-e832d3636a6a",
   "metadata": {},
   "outputs": [],
   "source": [
    "#What is the role of the `@abstractmethod` decorator in achieving polymorphism in Python? Provide an example.\n",
    "''' In Python, the @abstractmethod decorator is used to declare abstract methods in abstract classes. \n",
    "An abstract method is a method that has no implementation in the abstract class but must be implemented in any concrete subclass. \n",
    "Abstract classes and methods are useful for achieving polymorphism in Python because they allow objects of different classes tobe treated as if they were of same class'''\n",
    "\n",
    "from abc import ABC, abstractmethod\n",
    "\n",
    "class animal(ABC):\n",
    "    @abstractmethod\n",
    "    def speak():\n",
    "        pass\n",
    "\n",
    "class dog(animal):\n",
    "    def speak(self):\n",
    "        return \"dog speak is barking Baw-Baw\"\n",
    "\n",
    "class cat(animal):\n",
    "    def speak(self):\n",
    "        return \"cat speak is whispering meaow meaow\"\n",
    "\n",
    "class bird(animal):\n",
    "    def speak(self):\n",
    "        return \"bird speak is chrimping chu-chu\"\n",
    "\n",
    "sound = dog()\n",
    "print(sound.speak())\n",
    "sound = cat()\n",
    "print(sound.speak())\n",
    "sound = bird()\n",
    "print(sound.speak())"
   ]
  },
  {
   "cell_type": "code",
   "execution_count": 25,
   "id": "5da2a2c4-9da8-408f-9d16-c8bf80eb638f",
   "metadata": {},
   "outputs": [
    {
     "name": "stdout",
     "output_type": "stream",
     "text": [
      "Area of circle is : 314.0\n",
      "Area of rectangle is :  100\n",
      "Area of Triangle is :  100.0\n"
     ]
    }
   ],
   "source": [
    "#Create a Python class called `Shape` with a polymorphic method `area()` that calculates the area of different shapes (e.g., circle, rectangle, triangle).\n",
    "class shape:\n",
    "    def area(self):\n",
    "        pass\n",
    "        \n",
    "class circle(shape):\n",
    "    def __init__(self, r):\n",
    "        self.r = r\n",
    "    def area(self):\n",
    "        return  3.14*self.r**2\n",
    "       \n",
    "class rectangle(shape):\n",
    "    def __init__(self,l,b):\n",
    "        self.l = l\n",
    "        self.b = b\n",
    "    def area(self):\n",
    "        return self.l* self.b\n",
    "    \n",
    "class triangle(shape):\n",
    "     def __init__(self,b,h):\n",
    "        self.b = b\n",
    "        self.h = h \n",
    "     def area(self):\n",
    "         return  0.5*self.h* self.b\n",
    "         \n",
    "area = circle(10)   \n",
    "print(\"Area of circle is :\" , area.area())\n",
    "\n",
    "area = rectangle(10,10)\n",
    "print(\"Area of rectangle is : \" ,area.area())\n",
    "\n",
    "area = triangle(10,20)\n",
    "print(\"Area of Triangle is : \" ,area.area())"
   ]
  },
  {
   "cell_type": "code",
   "execution_count": null,
   "id": "45633e1d-766c-48cf-84bc-341354be83fc",
   "metadata": {},
   "outputs": [],
   "source": [
    "#Discuss the benefits of polymorphism in terms of code reusability and flexibility in Python programs.\n",
    "''' Polymorphism is a powerful feature of object-oriented programming that allows objects of different classes to be treated as if they were of the same class.\n",
    "This can lead to increased code reusability and flexibility in Python programs.\n",
    "\n",
    "Here are some benefits of polymorphism in Python programs:\n",
    "\n",
    "**Code reusability**: Polymorphism allows you to reuse code by creating a single interface that can be implemented by multiple classes. \n",
    "This means that you can write code that works with a variety of different objects without having to write separate code for each object type.\n",
    "\n",
    "**Flexibility**: Polymorphism makes it easy to add new functionality to your Python programs without having to modify existing code.\n",
    "This is because you can create new classes that implement the same interface as existing classes, and then use these new classes interchangeably with the old ones.\n",
    "\n",
    "**Simplicity**: Polymorphism can make your code simpler and easier to read by reducing the amount of conditional logic required.\n",
    "Instead of writing complex if/else statements to handle different object types, \n",
    "you can simply call the appropriate method on the object and let polymorphism take care of the rest.\n",
    "\n",
    "**Extensibility**: Polymorphism makes it easy to extend your Python programs by adding new classes that implement the same interface as existing classes. \n",
    "This means that you can add new functionality to your programs without having to modify existing code.\n",
    "\n",
    "polymorphism is a powerful feature of OOPS that can lead to increased code reusability, flexibility, simplicity, and extensibility in Python programs'''\n",
    "\n",
    "\n"
   ]
  },
  {
   "cell_type": "code",
   "execution_count": 29,
   "id": "cf1e580a-a085-43a3-8c51-9284967c8f9f",
   "metadata": {},
   "outputs": [
    {
     "data": {
      "text/plain": [
       "'name is ubed and sex is male and age is 22'"
      ]
     },
     "execution_count": 29,
     "metadata": {},
     "output_type": "execute_result"
    }
   ],
   "source": [
    "#Explain the use of the `super()` function in Python polymorphism. How does it help call methods of parent classes?\n",
    "''' In Python, super() is a built-in function that allows a subclass to call methods of its parent class. \n",
    "It is used in the context of polymorphism, which refers to the ability of an object to take on many forms.\n",
    "\n",
    "When a subclass inherits from a parent class, it can override the parent’s methods with its own implementation. \n",
    "However, sometimes we want to use the parent’s implementation as well. This is where super() comes in handy.\n",
    "\n",
    "By calling super(), we can access the parent’s methods and attributes. \n",
    "We can then use them in the subclass’s implementation. This allows us to reuse code and avoid duplicating functionality.'''\n",
    "\n",
    "class person:\n",
    "    def __init__(self,name,sex):\n",
    "        self.name = name\n",
    "        self.sex = sex\n",
    "    def show_details(self):\n",
    "        return f\"name is {self.name} and sex is {self.sex}\"\n",
    "\n",
    "class data_of_person(person):\n",
    "    def __init__(self,age,name,sex):\n",
    "        super().__init__(name,sex)\n",
    "        self.age = age\n",
    "\n",
    "    def show_details(self):\n",
    "        details = super().show_details()\n",
    "        return f\"{details} and age is {self.age}\"\n",
    "     \n",
    "ur = data_of_person(22,'ubed','male')\n",
    "ur.show_details()\n"
   ]
  },
  {
   "cell_type": "code",
   "execution_count": 58,
   "id": "f3f4e1c7-7058-4b26-a3b8-7f739faf4c1a",
   "metadata": {},
   "outputs": [
    {
     "name": "stdout",
     "output_type": "stream",
     "text": [
      "50000 is withdrawn from your ICICI savings account and remaining balance is 150000\n",
      "50000 is withdrawn from your ICICI checking account and remaining balance is 19950000\n",
      "50000 is withdrawn from your ICICI credit card and remaining balance is 1950000\n"
     ]
    }
   ],
   "source": [
    "#Create a Python class hierarchy for a banking system with various account types (e.g., savings, checking, credit card) and demonstrate \n",
    "#polymorphism by implementing a common `withdraw()` method.\n",
    "\n",
    "class bank:\n",
    "    def withdraw(self):\n",
    "        pass\n",
    "        \n",
    "class savings(bank):\n",
    "    def __init__(self):\n",
    "        self.cash = 200000\n",
    "        \n",
    "    def withdraw(self,withdraw_amount):\n",
    "        self.withdraw_amount = withdraw_amount\n",
    "        remaining_amount =  self.cash - self.withdraw_amount\n",
    "        return f\"{self.withdraw_amount} is withdrawn from your ICICI savings account and remaining balance is {remaining_amount}\"\n",
    "\n",
    "class checking(bank):\n",
    "    def __init__(self):\n",
    "        self.cash = 20000000\n",
    "        \n",
    "    def withdraw(self,withdraw_amount):\n",
    "        self.withdraw_amount = withdraw_amount\n",
    "        remaining_amount =  self.cash - self.withdraw_amount\n",
    "        return f\"{self.withdraw_amount} is withdrawn from your ICICI checking account and remaining balance is {remaining_amount}\"\n",
    "\n",
    "class credit_card(bank):\n",
    "    def __init__(self):\n",
    "        self.cash = 2000000\n",
    "        \n",
    "    def withdraw(self,withdraw_amount):\n",
    "        self.withdraw_amount = withdraw_amount\n",
    "        remaining_amount =  self.cash - self.withdraw_amount\n",
    "        return f\"{self.withdraw_amount} is withdrawn from your ICICI credit card and remaining balance is {remaining_amount}\"\n",
    "\n",
    "mn = savings()\n",
    "print(mn.withdraw(50000))\n",
    "mn = checking()\n",
    "print(mn.withdraw(50000))\n",
    "mn = credit_card()\n",
    "print(mn.withdraw(50000))"
   ]
  },
  {
   "cell_type": "code",
   "execution_count": 70,
   "id": "e47cb8ba-36cc-41d1-a3de-5b100e42b246",
   "metadata": {},
   "outputs": [
    {
     "ename": "TypeError",
     "evalue": "multiplication.mul() missing 2 required positional arguments: 'y' and 'z'",
     "output_type": "error",
     "traceback": [
      "\u001b[1;31m---------------------------------------------------------------------------\u001b[0m",
      "\u001b[1;31mTypeError\u001b[0m                                 Traceback (most recent call last)",
      "Cell \u001b[1;32mIn[70], line 9\u001b[0m\n\u001b[0;32m      7\u001b[0m         \u001b[38;5;28;01mreturn\u001b[39;00m x \u001b[38;5;241m*\u001b[39m y \u001b[38;5;241m*\u001b[39m z\n\u001b[0;32m      8\u001b[0m ubed \u001b[38;5;241m=\u001b[39m multiplication  \n\u001b[1;32m----> 9\u001b[0m \u001b[43mubed\u001b[49m\u001b[38;5;241;43m.\u001b[39;49m\u001b[43mmul\u001b[49m\u001b[43m(\u001b[49m\u001b[38;5;241;43m10\u001b[39;49m\u001b[43m,\u001b[49m\u001b[38;5;241;43m2\u001b[39;49m\u001b[43m)\u001b[49m\n",
      "\u001b[1;31mTypeError\u001b[0m: multiplication.mul() missing 2 required positional arguments: 'y' and 'z'"
     ]
    }
   ],
   "source": [
    "#Describe the concept of operator overloading in Python and how it relates to polymorphism. Provide examples using operators like `+` and `*`.\n",
    "\n",
    "class multiplication:\n",
    "    def mul(self,x,y):\n",
    "        return  x * y\n",
    "    def mul(self,x,y,z):\n",
    "        return x * y * z\n",
    "ubed = multiplication  \n",
    "ubed.mul(10,2)"
   ]
  },
  {
   "cell_type": "code",
   "execution_count": null,
   "id": "2cd8bb10-79c8-42e0-aafc-4d331e12f7a2",
   "metadata": {},
   "outputs": [],
   "source": [
    "#What is dynamic polymorphism, and how is it achieved in Python?\n",
    "'''Dynamic polymorphism is a type of polymorphism that allows objects to take on different forms at runtime. \n",
    "In Python, dynamic polymorphism is achieved through method overriding and method overloading.\n",
    "\n",
    "Method overriding is when a subclass provides a different implementation of a method that is already defined in its parent class. \n",
    "When the method is called on an instance of the subclass, the subclass’s implementation is used instead of the parent’s implementation. \n",
    "This allows us to customize the behavior of a method for a specific subclass.\n",
    "\n",
    "Method overloading is when a class defines multiple methods with the same name but different parameters. \n",
    "When the method is called, Python determines which version of the method to use based on the number and types of arguments passed to it. \n",
    "This allows us to create more flexible and reusable code.'''\n",
    "\n",
    "#overriding\n",
    "class Animal:\n",
    "    def speak(self):\n",
    "        print(\"Animal speaks\")\n",
    "\n",
    "class Dog(Animal):\n",
    "    def speak(self):\n",
    "        print(\"Dog barks\")\n",
    "\n",
    "a = Animal()\n",
    "a.speak() # prints \"Animal speaks\"\n",
    "\n",
    "d = Dog()\n",
    "d.speak() # prints \"Dog barks\"\n",
    "\n",
    "#overloading \n",
    "class Calculator:\n",
    "    def add(self, x, y):\n",
    "        return x + y\n",
    "\n",
    "    def add(self, x, y, z):\n",
    "        return x + y + z\n",
    "\n",
    "c = Calculator()\n",
    "print(c.add(1, 2)) # prints 3\n",
    "print(c.add(1, 2, 3)) # prints 6\n"
   ]
  },
  {
   "cell_type": "code",
   "execution_count": 38,
   "id": "417dfd7d-29de-4b4a-9980-b94302d13ee9",
   "metadata": {},
   "outputs": [
    {
     "name": "stdout",
     "output_type": "stream",
     "text": [
      "salary of manager is 10000000.0\n",
      "salary of developer is 6000000.0\n",
      "salary of designer is 4000000.0\n"
     ]
    }
   ],
   "source": [
    "#Create a Python class hierarchy for employees in a company (e.g., manager, developer, designer) and implement polymorphism through a common `calculate_salary()` method.\n",
    "class employees:\n",
    "    def calculate_salary(self):\n",
    "        pass\n",
    "\n",
    "class manager(employees):\n",
    "    def __init__(self,budget):\n",
    "        self.budget = budget\n",
    "        \n",
    "    def calculate_salary(self):\n",
    "        salary = 0.5* self.budget\n",
    "        return f\"salary of manager is {salary}\"\n",
    "\n",
    "class developer(employees):\n",
    "    def __init__(self,budget):\n",
    "        self.budget = budget\n",
    "        \n",
    "    def calculate_salary(self):\n",
    "        salary = 0.3* self.budget\n",
    "        return f\"salary of developer is {salary}\"\n",
    "\n",
    "class designer(employees):\n",
    "    def __init__(self,budget):\n",
    "        self.budget = budget\n",
    "        \n",
    "    def calculate_salary(self):\n",
    "        salary = 0.2*self.budget\n",
    "        return f\"salary of designer is {salary}\"\n",
    "\n",
    "sal = manager(20000000)\n",
    "print(sal.calculate_salary())\n",
    "sal = developer(20000000)\n",
    "print(sal.calculate_salary())\n",
    "sal = designer(20000000)\n",
    "print(sal.calculate_salary())\n"
   ]
  },
  {
   "cell_type": "code",
   "execution_count": 72,
   "id": "d72571b8-ed80-4753-a92c-2d541b0a72dc",
   "metadata": {},
   "outputs": [
    {
     "data": {
      "text/plain": [
       "25"
      ]
     },
     "execution_count": 72,
     "metadata": {},
     "output_type": "execute_result"
    }
   ],
   "source": [
    "#Discuss the concept of function pointers and how they can be used to achieve polymorphism in Python.\n",
    "'''In Python, first-class functions are functions that can be treated like any other object. \n",
    "This means that they can be assigned to variables, passed as arguments to other functions, and returned as values from functions.\n",
    "\n",
    "Here’s an example of a first-class function in Python:'''\n",
    "\n",
    "def square(x):\n",
    "    return x*x\n",
    "\n",
    "f= square\n",
    "f(5)\n"
   ]
  },
  {
   "cell_type": "code",
   "execution_count": null,
   "id": "d48356a3-4fa1-45ff-87b1-9db712e8e77b",
   "metadata": {},
   "outputs": [],
   "source": [
    "#Explain the role of interfaces and abstract classes in polymorphism, drawing comparisons between them.\n"
   ]
  },
  {
   "cell_type": "code",
   "execution_count": null,
   "id": "bbe30c58-aa16-453a-b186-1b4e33b66f12",
   "metadata": {},
   "outputs": [],
   "source": [
    "#Create a Python class for a zoo simulation, demonstrating polymorphism with different"
   ]
  },
  {
   "cell_type": "code",
   "execution_count": 29,
   "id": "9777bba2-fe1b-4922-942c-8ebe12b499d9",
   "metadata": {},
   "outputs": [
    {
     "data": {
      "text/plain": [
       "'car started bro'"
      ]
     },
     "execution_count": 29,
     "metadata": {},
     "output_type": "execute_result"
    }
   ],
   "source": [
    "'''Abstraction:'''\n",
    "#What is abstraction in Python, and how does it relate to object-oriented programming?\n",
    "''' Abstraction is a fundamental concept in object-oriented programming (OOP) that allows us to focus on the behavior of an object and ignore the \n",
    "underlying implementation details . \n",
    "It is the process of hiding the implementation details of an object and exposing only the essential features to the outside world .\n",
    "\n",
    "In Python, abstraction is achieved by creating classes and hiding the implementation details of the methods . \n",
    "Abstraction involves hiding the implementation details of a class and only exposing the essential features . \n",
    "It simplifies complex reality by modeling classes based on the essential properties and behaviors an object should possess .\n",
    "\n",
    "Abstract classes are used to define a blueprint for other classes. \n",
    "They cannot be instantiated and are designed to be subclassed by other classes 1. \n",
    "Abstract methods are methods that are declared in the abstract class but do not have an implementation 1. They must be implemented by the subclass 1.\n",
    "\n",
    "Here is an example of an abstract class in Python: '''\n",
    "\n",
    "from abc import ABC,abstractmethod\n",
    "class vehicle(ABC):\n",
    "\n",
    "    @abstractmethod\n",
    "    def start(self):\n",
    "        pass\n",
    "        \n",
    "    @abstractmethod\n",
    "    def stop(self):\n",
    "        pass\n",
    "\n",
    "class car(vehicle):\n",
    "    def start(self):\n",
    "        return\"car started bro\"\n",
    "\n",
    "\n",
    "    def stop(self):\n",
    "        return \"car stoped bro\"\n",
    "        \n",
    "ubed=car()\n",
    "ubed.start()\n"
   ]
  },
  {
   "cell_type": "code",
   "execution_count": 18,
   "id": "f29448e9-897f-4e4e-95e8-b04125dfd49f",
   "metadata": {},
   "outputs": [],
   "source": [
    "#Describe the benefits of abstraction in terms of code organization and complexity reduction.\n",
    "'''Abstraction is a powerful tool in software development that can help reduce complexity and improve code organization. \n",
    "By abstracting away implementation details, developers can focus on the essential features of an object and ignore the underlying complexity . \n",
    "This simplifies the code and makes it easier to read, understand, and maintain .\n",
    "\n",
    "Abstraction also helps in code organization by separating the essential features of an object from its implementation details .\n",
    "This separation allows developers to create a clear mental model of the system and design better abstractions . \n",
    "Abstraction layers can be used to centralize the essential features of an object and hide the implementation details . \n",
    "This decoupling between policy and detail allows developers to switch and easily refactor implementation .\n",
    "\n",
    "In addition to these benefits, abstraction also helps in reducing code duplication and improving code reusability. \n",
    "By creating abstract classes and methods, developers can define a blueprint for other classes and reuse the code across multiple projects.\n",
    "\n",
    "Overall, abstraction is a powerful technique that can help reduce complexity, improve code organization, and increase code reusability'''\n",
    "    \n"
   ]
  },
  {
   "cell_type": "code",
   "execution_count": 44,
   "id": "8a5ff64b-ba26-4dd2-a37f-c110569785fc",
   "metadata": {},
   "outputs": [
    {
     "data": {
      "text/plain": [
       "100"
      ]
     },
     "execution_count": 44,
     "metadata": {},
     "output_type": "execute_result"
    }
   ],
   "source": [
    "#Create a Python class called `Shape` with an abstract method `calculate_area()`.\n",
    "#Then, create child classes (e.g., `Circle`, `Rectangle`) that implement the `calculate_area()` method. Provide an example ofusing these classes.\n",
    "\n",
    "from abc import ABC , abstractmethod\n",
    "class shape(ABC):\n",
    "    @abstractmethod \n",
    "    def calculate_area(self):\n",
    "        pass\n",
    "        \n",
    "    @abstractmethod \n",
    "    def sucess_message(self):\n",
    "        pass\n",
    "    \n",
    "\n",
    "class circle(shape):\n",
    "    def __init__(self,r):\n",
    "        self.r =r \n",
    "        \n",
    "    def calculate_area(self):\n",
    "        return 3.14 * self.r * self.r \n",
    "\n",
    "    def sucess_message(self):\n",
    "        return \"area calculated successfully\"\n",
    "\n",
    "class rectangle(shape):\n",
    "    def __init__(self,l,b):\n",
    "        self.l = l\n",
    "        self.b = b\n",
    "        \n",
    "    def calculate_area(self):\n",
    "        return self.l * self.b\n",
    "\n",
    "    def sucess_message(self):\n",
    "        return \"area calculated successfully\"\n",
    "\n",
    "ubed= rectangle(10,10)\n",
    "ubed.calculate_area()\n"
   ]
  },
  {
   "cell_type": "code",
   "execution_count": null,
   "id": "b5a5bec6-632f-4ffd-8e5a-87faa334baf4",
   "metadata": {},
   "outputs": [],
   "source": [
    "#Explain the concept of abstract classes in Python and how they are defined using the `abc` module. Provide an example.\n",
    "''' Abstract classes are classes that cannot be instantiated and are designed to be subclassed by other classes . \n",
    "They are used to define a blueprint for other classes and provide a common interface for a set of related classes .\n",
    "\n",
    "In Python, abstract classes can be defined using the abc module . \n",
    "This module provides the infrastructure for defining abstract base classes (ABCs) in Python, as outlined in PEP 3119 1. \n",
    "The abc module provides the ABC class, which is a helper class that has ABCMeta as its metaclass.\n",
    "With this class, an abstract base class can be created by simply deriving from ABC 1. Here’s an example: '''\n",
    "\n",
    "from abc import ABC,abstractmethod\n",
    "class vehicle(ABC):\n",
    "\n",
    "    @abstractmethod\n",
    "    def start(self):\n",
    "        pass\n",
    "        \n",
    "    @abstractmethod\n",
    "    def stop(self):\n",
    "        pass\n",
    "\n",
    "class car(vehicle):\n",
    "    def start(self):\n",
    "        return\"car started bro\"\n",
    "\n",
    "\n",
    "    def stop(self):\n",
    "        return \"car stoped bro\"\n",
    "        \n",
    "ubed=car()\n",
    "ubed.start()\n"
   ]
  },
  {
   "cell_type": "code",
   "execution_count": null,
   "id": "e3b13dbb-0b83-4d2b-900d-71f6e3ca94bf",
   "metadata": {},
   "outputs": [],
   "source": [
    "#How do abstract classes differ from regular classes in Python? Discuss their use cases.\n",
    "'''Abstract classes are classes that cannot be instantiated and are designed to be subclassed by other classes . \n",
    "They are used to define a blueprint for other classes and provide a common interface for a set of related classes .\n",
    "In Python, abstract classes can be defined using the `abc` module . \n",
    "This module provides the infrastructure for defining abstract base classes (ABCs) in Python, as outlined in PEP 3119 . \n",
    "The `abc` module provides the `ABC` class, which is a helper class that has `ABCMeta` as its metaclass . \n",
    "With this class, an abstract base class can be created by simply deriving from `ABC` . \n",
    "\n",
    "The main difference between abstract classes and regular classes is that abstract classes cannot be instantiated directly. \n",
    "Instead, they are designed to be subclassed by other classes, which must implement the abstract methods defined in the abstract class . \n",
    "Abstract classes can also contain abstract properties, which are properties that do not have an implementation. \n",
    "\n",
    "Abstract classes are useful when you want to define a common interface for a set of related classes. \n",
    "They provide a way to enforce a set of methods that must be implemented by the subclass . \n",
    "This helps to ensure that all subclasses have the same set of methods or attributes, making them interchangeable in our code. \n",
    "\n",
    "Regular classes, on the other hand, can be instantiated directly and do not have any abstract methods or properties. \n",
    "They are used to define objects that have a specific set of attributes and methods. \n",
    "\n",
    "In summary, abstract classes are used to define a common interface for a set of related classes, \n",
    "while regular classes are used to define objects that have a specific set of attributes and methods'''\n"
   ]
  },
  {
   "cell_type": "code",
   "execution_count": null,
   "id": "7f16190f-fdc1-414c-87ab-ddb550a8340f",
   "metadata": {},
   "outputs": [],
   "source": [
    "6. Create a Python class for a bank account and demonstrate abstraction by hiding the account balance and\n",
    "providing methods to deposit and withdraw funds.\n",
    "7. Discuss the concept of interface classes in Python and their role in achieving abstraction.\n",
    "8. Create a Python class hierarchy for animals and implement abstraction by defining common methods (e.g., `eat()`, `sleep()`) in an abstract base class.\n",
    "9. Explain the significance of encapsulation in achieving abstraction. Provide examples.\n",
    "10. What is the purpose of abstract methods, and how do they enforce abstraction in Python classes?\n",
    "11. Create a Python class for a vehicle system and demonstrate abstraction by defining common methods (e.g., `start()`, `stop()`) in an abstract base class.\n",
    "12. Describe the use of abstract properties in Python and how they can be employed in abstract classes.\n",
    "13. Create a Python class hierarchy for employees in a company (e.g., manager, developer, designer) and implement abstraction by defining a common `get_salary()` method.\n",
    "14. Discuss the differences between abstract classes and concrete classes in Python, including their\n",
    "instantiation.\n",
    "15. Explain the concept of abstract data types (ADTs) and their role in achieving abstraction in Python.\n",
    "16. Create a Python class for a computer system, demonstrating abstraction by defining common methods (e.g., `power_on()`, `shutdown()`) in an abstract base class.\n",
    "17. Discuss the benefits of using abstraction in large-scale software development projects.\n",
    "18. Explain how abstraction enhances code reusability and modularity in Python programs.\n",
    "19. Create a Python class for a library system, implementing abstraction by defining common methods (e.g., `add_book()`, `borrow_book()`) in an abstract base class.\n",
    "20. Describe the concept of method abstraction in Python and how it relates to polymorphism."
   ]
  }
 ],
 "metadata": {
  "kernelspec": {
   "display_name": "Python 3 (ipykernel)",
   "language": "python",
   "name": "python3"
  },
  "language_info": {
   "codemirror_mode": {
    "name": "ipython",
    "version": 3
   },
   "file_extension": ".py",
   "mimetype": "text/x-python",
   "name": "python",
   "nbconvert_exporter": "python",
   "pygments_lexer": "ipython3",
   "version": "3.11.3"
  }
 },
 "nbformat": 4,
 "nbformat_minor": 5
}
